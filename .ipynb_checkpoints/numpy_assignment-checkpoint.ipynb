{
 "cells": [
  {
   "cell_type": "code",
   "execution_count": null,
   "id": "4ded9cb4-75a6-43c0-82c5-fa2d68adf9d5",
   "metadata": {},
   "outputs": [],
   "source": [
    "# NUMPY ASSIGNMENT"
   ]
  },
  {
   "cell_type": "code",
   "execution_count": 1,
   "id": "f56fac75-6ba0-41d4-95fd-73e20063108f",
   "metadata": {},
   "outputs": [
    {
     "name": "stdout",
     "output_type": "stream",
     "text": [
      "int64\n"
     ]
    }
   ],
   "source": [
    "# 1.Create a NumPy array 'arr' of integers from 0 to 5 and print its data type.\n",
    "\n",
    "import numpy as np\n",
    "arr = np.arange(6)\n",
    "print(arr.dtype)\n"
   ]
  },
  {
   "cell_type": "code",
   "execution_count": 2,
   "id": "b311e6c1-4f1c-41d6-a1e4-ddf51169ae03",
   "metadata": {},
   "outputs": [
    {
     "name": "stdout",
     "output_type": "stream",
     "text": [
      "True\n"
     ]
    }
   ],
   "source": [
    "# 2.Given a NumPy array 'arr', check if its data type is float64. \n",
    "#   arr = np.array([1.5, 2.6, 3.7])\n",
    "\n",
    "import numpy as np\n",
    "arr = np.array([1.5, 2.6, 3.7])\n",
    "is_float64 = arr.dtype == np.float64\n",
    "print(is_float64)\n"
   ]
  },
  {
   "cell_type": "code",
   "execution_count": 3,
   "id": "005dc54b-97ce-4dde-add2-21cfcbf37b69",
   "metadata": {},
   "outputs": [
    {
     "name": "stdout",
     "output_type": "stream",
     "text": [
      "[1.+2.j 3.+4.j 5.+6.j]\n",
      "complex128\n"
     ]
    }
   ],
   "source": [
    "# 3.Create a NumPy array 'arr' with a data type of complex128 containing three complex numbers.\n",
    "\n",
    "import numpy as np\n",
    "arr = np.array([1+2j, 3+4j, 5+6j], dtype=np.complex128)\n",
    "print(arr)\n",
    "print(arr.dtype)"
   ]
  },
  {
   "cell_type": "code",
   "execution_count": 4,
   "id": "6c820f1c-7acd-4862-89cd-a285b308243e",
   "metadata": {},
   "outputs": [
    {
     "name": "stdout",
     "output_type": "stream",
     "text": [
      "[1. 2. 3. 4. 5.]\n",
      "float32\n"
     ]
    }
   ],
   "source": [
    "# 4.Convert an existing NumPy array 'arr' of integers to float32 data type.\n",
    "\n",
    "import numpy as np\n",
    "arr = np.array([1, 2, 3, 4, 5])\n",
    "arr_float32 = arr.astype(np.float32)\n",
    "print(arr_float32)\n",
    "print(arr_float32.dtype)"
   ]
  },
  {
   "cell_type": "code",
   "execution_count": 5,
   "id": "e950cba3-3bc9-4bc4-bb44-33cf7b51cf0b",
   "metadata": {},
   "outputs": [
    {
     "name": "stdout",
     "output_type": "stream",
     "text": [
      "[1.1 2.2 3.3]\n",
      "float32\n"
     ]
    }
   ],
   "source": [
    "# 5. Given a NumPy array 'arr' with float64 data type, convert it to float32 to reduce decimal precision.\n",
    "\n",
    "import numpy as np\n",
    "arr = np.array([1.1, 2.2, 3.3], dtype=np.float64)\n",
    "arr_float32 = arr.astype(np.float32)\n",
    "print(arr_float32)\n",
    "print(arr_float32.dtype)\n",
    " "
   ]
  },
  {
   "cell_type": "code",
   "execution_count": 6,
   "id": "24a20cd6-33b1-4014-bff8-79bca072509a",
   "metadata": {},
   "outputs": [
    {
     "name": "stdout",
     "output_type": "stream",
     "text": [
      "((3,), 3, dtype('float64'))\n"
     ]
    }
   ],
   "source": [
    "# 6.Write a function array_attributes that takes a NumPy array as input and returns its shape, size, and data type.\n",
    "\n",
    "import numpy as np\n",
    "def array_attributes(arr):\n",
    "    shape = arr.shape\n",
    "    size = arr.size\n",
    "    dtype = arr.dtype\n",
    "    return shape, size, dtype\n",
    "arr = np.array([1.1, 2.2, 3.3])\n",
    "attributes = array_attributes(arr)\n",
    "print(attributes)"
   ]
  },
  {
   "cell_type": "code",
   "execution_count": 7,
   "id": "b07a7aa1-26d1-4654-9f26-d0287e7593bc",
   "metadata": {},
   "outputs": [
    {
     "name": "stdout",
     "output_type": "stream",
     "text": [
      "2\n"
     ]
    }
   ],
   "source": [
    "# 7.Create a function array_dimension that takes a NumPy array as input and returns its dimensionality.\n",
    "\n",
    "import numpy as np\n",
    "def array_dimension(arr):\n",
    "    return arr.ndim\n",
    "arr = np.array([[1, 2, 3], [4, 5, 6]])\n",
    "dimensionality = array_dimension(arr)\n",
    "print(dimensionality)"
   ]
  },
  {
   "cell_type": "code",
   "execution_count": 8,
   "id": "249b81f1-5002-4b13-83f4-d7225df78255",
   "metadata": {},
   "outputs": [
    {
     "name": "stdout",
     "output_type": "stream",
     "text": [
      "(8, 24)\n"
     ]
    }
   ],
   "source": [
    "# 8.Design a function item_size_info that takes a NumPy array as input and returns the item size and the \n",
    "#   total size in bytes.\n",
    "\n",
    "import numpy as np\n",
    "def item_size_info(arr):\n",
    "    item_size = arr.itemsize\n",
    "    total_size = arr.nbytes\n",
    "    return item_size, total_size\n",
    "arr = np.array([1.1, 2.2, 3.3])\n",
    "size_info = item_size_info(arr)\n",
    "print(size_info)"
   ]
  },
  {
   "cell_type": "code",
   "execution_count": 9,
   "id": "dbddbd47-74ee-4718-bb58-71ba4285a3c9",
   "metadata": {},
   "outputs": [
    {
     "name": "stdout",
     "output_type": "stream",
     "text": [
      "(24, 8)\n"
     ]
    }
   ],
   "source": [
    "# 9.Create a function array_strides that takes a NumPy array as input and returns the strides of the array.\n",
    "\n",
    "import numpy as np\n",
    "def array_strides(arr):\n",
    "    return arr.strides\n",
    "arr = np.array([[1, 2, 3], [4, 5, 6]])\n",
    "strides = array_strides(arr)\n",
    "print(strides)"
   ]
  },
  {
   "cell_type": "code",
   "execution_count": 10,
   "id": "6df5e62e-9ba2-4efa-a641-1aa760ae921a",
   "metadata": {},
   "outputs": [
    {
     "name": "stdout",
     "output_type": "stream",
     "text": [
      "((2, 3), (24, 8))\n"
     ]
    }
   ],
   "source": [
    "# 10. Design a function shape_stride_relationship that takes a NumPy array as input and returns the shape \n",
    "#     and strides of the array\n",
    "\n",
    "import numpy as np\n",
    "def shape_stride_relationship(arr):\n",
    "    shape = arr.shape\n",
    "    strides = arr.strides\n",
    "    return shape, strides\n",
    "arr = np.array([[1, 2, 3], [4, 5, 6]])\n",
    "relationship = shape_stride_relationship(arr)\n",
    "print(relationship)"
   ]
  },
  {
   "cell_type": "code",
   "execution_count": 11,
   "id": "29fb1899-8f15-4f0d-b999-4be756484828",
   "metadata": {},
   "outputs": [
    {
     "name": "stdout",
     "output_type": "stream",
     "text": [
      "[0. 0. 0. 0. 0.]\n"
     ]
    }
   ],
   "source": [
    "# 11.Create a function `create_zeros_array` that takes an integer `n` as input and returns a NumPy array of \n",
    "#    zeros with `n` elements.\n",
    "\n",
    "import numpy as np\n",
    "def create_zeros_array(n):\n",
    "    return np.zeros(n)\n",
    "n = 5\n",
    "zeros_array = create_zeros_array(n)\n",
    "print(zeros_array)"
   ]
  },
  {
   "cell_type": "code",
   "execution_count": 12,
   "id": "73337f96-5118-4d35-ae26-96cfcd8a2e80",
   "metadata": {},
   "outputs": [
    {
     "name": "stdout",
     "output_type": "stream",
     "text": [
      "[[1. 1. 1. 1.]\n",
      " [1. 1. 1. 1.]\n",
      " [1. 1. 1. 1.]]\n"
     ]
    }
   ],
   "source": [
    "# 12.Write a function `create_ones_matrix` that takes integers `rows` and `cols` as inputs and generates a 2D \n",
    "#    NumPy array filled with ones of size `rows x cols`.\n",
    "\n",
    "import numpy as np\n",
    "def create_ones_matrix(rows, cols):\n",
    "    return np.ones((rows, cols))\n",
    "rows = 3\n",
    "cols = 4\n",
    "ones_matrix = create_ones_matrix(rows, cols)\n",
    "print(ones_matrix)"
   ]
  },
  {
   "cell_type": "code",
   "execution_count": 13,
   "id": "4119a5cf-1920-4593-b97e-d7b6bdb55821",
   "metadata": {},
   "outputs": [
    {
     "name": "stdout",
     "output_type": "stream",
     "text": [
      "[0 2 4 6 8]\n"
     ]
    }
   ],
   "source": [
    "# 13.Write a function `generate_range_array` that takes three integers start, stop, and step as arguments and \n",
    "#    creates a NumPy array with a range starting from `start`, ending at stop (exclusive), and with the specified \n",
    "#    `step`.\n",
    "\n",
    "import numpy as np\n",
    "def generate_range_array(start, stop, step):\n",
    "    return np.arange(start, stop, step)\n",
    "array = generate_range_array(0, 10, 2)\n",
    "print(array)"
   ]
  },
  {
   "cell_type": "code",
   "execution_count": 14,
   "id": "07d362d1-9456-46c1-9317-5cd04bf485d1",
   "metadata": {},
   "outputs": [
    {
     "name": "stdout",
     "output_type": "stream",
     "text": [
      "[0.   0.25 0.5  0.75 1.  ]\n"
     ]
    }
   ],
   "source": [
    "# 14.Design a function `generate_linear_space` that takes two floats `start`, `stop`, and an integer `num` as \n",
    "#    arguments and generates a NumPy array with num equally spaced values between `start` and `stop` \n",
    "#    (inclusive).\n",
    "\n",
    "import numpy as np\n",
    "def generate_linear_space(start, stop, num):\n",
    "    return np.linspace(start, stop, num)\n",
    "array = generate_linear_space(0.0, 1.0, 5)\n",
    "print(array)"
   ]
  },
  {
   "cell_type": "code",
   "execution_count": 15,
   "id": "ea40cf28-5395-4269-93bf-0d579880ee56",
   "metadata": {},
   "outputs": [
    {
     "name": "stdout",
     "output_type": "stream",
     "text": [
      "[[1. 0. 0. 0.]\n",
      " [0. 1. 0. 0.]\n",
      " [0. 0. 1. 0.]\n",
      " [0. 0. 0. 1.]]\n"
     ]
    }
   ],
   "source": [
    "# 15.Create a function `create_identity_matrix` that takes an integer `n` as input and generates a square \n",
    "#    identity matrix of size `n x n` using `numpy.eye`.\n",
    "\n",
    "import numpy as np\n",
    "def create_identity_matrix(n):\n",
    "    return np.eye(n)\n",
    "identity_matrix = create_identity_matrix(4)\n",
    "print(identity_matrix)"
   ]
  },
  {
   "cell_type": "code",
   "execution_count": 16,
   "id": "02031264-143f-4a8a-ba84-fb4252ec51cc",
   "metadata": {},
   "outputs": [
    {
     "name": "stdout",
     "output_type": "stream",
     "text": [
      "[1 2 3 4 5]\n"
     ]
    }
   ],
   "source": [
    "# 16.Write a function that takes a Python list and converts it into a NumPy array.\n",
    "\n",
    "import numpy as np\n",
    "def list_to_numpy_array(py_list):\n",
    "    return np.array(py_list)\n",
    "python_list = [1, 2, 3, 4, 5]\n",
    "numpy_array = list_to_numpy_array(python_list)\n",
    "print(numpy_array)"
   ]
  },
  {
   "cell_type": "code",
   "execution_count": 17,
   "id": "83400c66-cc0a-4051-8e56-4097790805cb",
   "metadata": {},
   "outputs": [
    {
     "name": "stdout",
     "output_type": "stream",
     "text": [
      "Original array: [10  2  3  4  5]\n",
      "View array: [10  2  3  4  5]\n"
     ]
    }
   ],
   "source": [
    "# 17.Create a NumPy array and demonstrate the use of `numpy.view` to create a new array object with the \n",
    "#    same data.\n",
    "\n",
    "import numpy as np\n",
    "original_array = np.array([1, 2, 3, 4, 5])\n",
    "view_array = original_array.view()\n",
    "original_array[0] = 10\n",
    "print(\"Original array:\", original_array)\n",
    "print(\"View array:\", view_array)"
   ]
  },
  {
   "cell_type": "code",
   "execution_count": 18,
   "id": "82a18b6e-7635-4986-87e2-0b87b8b649ad",
   "metadata": {},
   "outputs": [
    {
     "name": "stdout",
     "output_type": "stream",
     "text": [
      "Concatenated along axis 0:\n",
      " [[1 2]\n",
      " [3 4]\n",
      " [5 6]\n",
      " [7 8]]\n",
      "Concatenated along axis 1:\n",
      " [[1 2 5 6]\n",
      " [3 4 7 8]]\n"
     ]
    }
   ],
   "source": [
    "# 18.Write a function that takes two NumPy arrays and concatenates them along a specified axis.\n",
    "\n",
    "import numpy as np\n",
    "def concatenate_arrays(array1, array2, axis=0):\n",
    "    return np.concatenate((array1, array2), axis=axis)\n",
    "array1 = np.array([[1, 2], [3, 4]])\n",
    "array2 = np.array([[5, 6], [7, 8]])\n",
    "concatenated_array_0 = concatenate_arrays(array1, array2, axis=0)\n",
    "print(\"Concatenated along axis 0:\\n\", concatenated_array_0)\n",
    "concatenated_array_1 = concatenate_arrays(array1, array2, axis=1)\n",
    "print(\"Concatenated along axis 1:\\n\", concatenated_array_1)"
   ]
  },
  {
   "cell_type": "code",
   "execution_count": 19,
   "id": "1f331cc8-ddb0-4de1-b9a8-60f8c3b149cb",
   "metadata": {},
   "outputs": [
    {
     "name": "stdout",
     "output_type": "stream",
     "text": [
      "Array 1:\n",
      " [[1 2 3]\n",
      " [4 5 6]]\n",
      "Array 2:\n",
      " [[ 7  8]\n",
      " [ 9 10]]\n",
      "Concatenated array:\n",
      " [[ 1  2  3  7  8]\n",
      " [ 4  5  6  9 10]]\n"
     ]
    }
   ],
   "source": [
    "# 19.Create two NumPy arrays with different shapes and concatenate them horizontally using `numpy.\n",
    "#    concatenate`.\n",
    "\n",
    "import numpy as np\n",
    "array1 = np.array([[1, 2, 3], [4, 5, 6]])\n",
    "array2 = np.array([[7, 8], [9, 10]])\n",
    "concatenated_array = np.concatenate((array1, array2), axis=1)\n",
    "print(\"Array 1:\\n\", array1)\n",
    "print(\"Array 2:\\n\", array2)\n",
    "print(\"Concatenated array:\\n\", concatenated_array)"
   ]
  },
  {
   "cell_type": "code",
   "execution_count": 20,
   "id": "1bdf7b0b-4692-4ae9-81ca-55ccb0fad42f",
   "metadata": {},
   "outputs": [
    {
     "name": "stdout",
     "output_type": "stream",
     "text": [
      "[[ 1  2]\n",
      " [ 3  4]\n",
      " [ 5  6]\n",
      " [ 7  8]\n",
      " [ 9 10]\n",
      " [11 12]]\n"
     ]
    }
   ],
   "source": [
    "# 20.Write a function that vertically stacks multiple NumPy arrays given as a list.\n",
    "\n",
    "import numpy as np\n",
    "def vertical_stack_arrays(array_list):\n",
    "    return np.vstack(array_list)\n",
    "array1 = np.array([[1, 2], [3, 4]])\n",
    "array2 = np.array([[5, 6], [7, 8]])\n",
    "array3 = np.array([[9, 10], [11, 12]])\n",
    "arrays_to_stack = [array1, array2, array3]\n",
    "stacked_array = vertical_stack_arrays(arrays_to_stack)\n",
    "print(stacked_array)"
   ]
  },
  {
   "cell_type": "code",
   "execution_count": 21,
   "id": "4a48339a-adb3-4d49-a155-f7e8e8dc4b2f",
   "metadata": {},
   "outputs": [
    {
     "name": "stdout",
     "output_type": "stream",
     "text": [
      "[ 1  3  5  7  9 11]\n"
     ]
    }
   ],
   "source": [
    "# 21.Write a Python function using NumPy to create an array of integers within a specified range (inclusive) \n",
    "#    with a given step size.\n",
    "\n",
    "import numpy as np\n",
    "def create_range_array(start, stop, step):\n",
    "    return np.arange(start, stop + step, step)\n",
    "array = create_range_array(1, 10, 2)\n",
    "print(array)"
   ]
  },
  {
   "cell_type": "code",
   "execution_count": 22,
   "id": "1e80f6b9-b39f-48a0-b8ac-4d34c138f313",
   "metadata": {},
   "outputs": [
    {
     "name": "stdout",
     "output_type": "stream",
     "text": [
      "[0.         0.11111111 0.22222222 0.33333333 0.44444444 0.55555556\n",
      " 0.66666667 0.77777778 0.88888889 1.        ]\n"
     ]
    }
   ],
   "source": [
    "# 22.Write a Python function using NumPy to generate an array of 10 equally spaced values between 0 and 1 \n",
    "#    (inclusive).\n",
    "\n",
    "import numpy as np\n",
    "def generate_equally_spaced_values():\n",
    "    return np.linspace(0, 1, 10)\n",
    "array = generate_equally_spaced_values()\n",
    "print(array)"
   ]
  },
  {
   "cell_type": "code",
   "execution_count": 23,
   "id": "c8148be0-c6a2-452b-9f83-29cd777f0ece",
   "metadata": {},
   "outputs": [
    {
     "name": "stdout",
     "output_type": "stream",
     "text": [
      "[   1.            5.62341325   31.6227766   177.827941   1000.        ]\n"
     ]
    }
   ],
   "source": [
    "# 23.Write a Python function using NumPy to create an array of 5 logarithmically spaced values between 1 and \n",
    "#    1000 (inclusive).\n",
    "\n",
    "import numpy as np\n",
    "def create_log_space_array():\n",
    "    log_space_array = np.logspace(0, 3, num=5)\n",
    "    return log_space_array\n",
    "log_array = create_log_space_array()\n",
    "print(log_array)"
   ]
  },
  {
   "cell_type": "code",
   "execution_count": 24,
   "id": "75695ec1-730e-4e9a-8f1e-c4b1bac6997a",
   "metadata": {},
   "outputs": [
    {
     "name": "stdout",
     "output_type": "stream",
     "text": [
      "   Column1  Column2  Column3\n",
      "0       19       82       19\n",
      "1       79       17       67\n",
      "2       86       30       33\n",
      "3       49       64       79\n",
      "4       46       19       59\n"
     ]
    }
   ],
   "source": [
    "# 24.Create a Pandas DataFrame using a NumPy array that contains 5 rows and 3 columns, where the values \n",
    "#    are random integers between 1 and 100.\n",
    "\n",
    "import numpy as np\n",
    "import pandas as pd\n",
    "def create_random_dataframe():\n",
    "    random_array = np.random.randint(1, 101, size=(5, 3))\n",
    "    df = pd.DataFrame(random_array, columns=['Column1', 'Column2', 'Column3'])\n",
    "    return df\n",
    "random_df = create_random_dataframe()\n",
    "print(random_df)"
   ]
  },
  {
   "cell_type": "code",
   "execution_count": 25,
   "id": "c23c3d60-b3f0-4232-b5aa-76e4b0abd0df",
   "metadata": {},
   "outputs": [
    {
     "name": "stdout",
     "output_type": "stream",
     "text": [
      "Original DataFrame:\n",
      "   A  B  C\n",
      "0  1 -1  1\n",
      "1 -2  2  2\n",
      "2  3 -3  3\n",
      "3 -4  4  4\n",
      "4  5 -5  5\n",
      "\n",
      "DataFrame after replacing negatives in column 'A':\n",
      "   A  B  C\n",
      "0  1 -1  1\n",
      "1  0  2  2\n",
      "2  3 -3  3\n",
      "3  0  4  4\n",
      "4  5 -5  5\n"
     ]
    }
   ],
   "source": [
    "# 25.Write a function that takes a Pandas DataFrame and replaces all negative values in a specific column \n",
    "#    with zeros. Use NumPy operations within the Pandas DataFrame.\n",
    "\n",
    "import numpy as np\n",
    "import pandas as pd\n",
    "def replace_negatives_with_zeros(df, column_name):\n",
    "    df[column_name] = np.where(df[column_name] < 0, 0, df[column_name])\n",
    "    return df\n",
    "data = {\n",
    "    'A': [1, -2, 3, -4, 5],\n",
    "    'B': [-1, 2, -3, 4, -5],\n",
    "    'C': [1, 2, 3, 4, 5]\n",
    "}\n",
    "df = pd.DataFrame(data)\n",
    "print(\"Original DataFrame:\")\n",
    "print(df)\n",
    "df = replace_negatives_with_zeros(df, 'A')\n",
    "print(\"\\nDataFrame after replacing negatives in column 'A':\")\n",
    "print(df)"
   ]
  },
  {
   "cell_type": "code",
   "execution_count": 26,
   "id": "74cd1c8e-aae5-44b9-b5b8-390a5085c829",
   "metadata": {},
   "outputs": [
    {
     "name": "stdout",
     "output_type": "stream",
     "text": [
      "30\n"
     ]
    }
   ],
   "source": [
    "# 26.Access the 3rd element from the given NumPy array.\n",
    "#    arr = np.array([10, 20, 30, 40, 50])\n",
    "\n",
    "import numpy as np\n",
    "arr = np.array([10, 20, 30, 40, 50])\n",
    "third_element = arr[2]\n",
    "print(third_element)"
   ]
  },
  {
   "cell_type": "code",
   "execution_count": 27,
   "id": "05076d12-883e-4114-8859-f67d3fc51a01",
   "metadata": {},
   "outputs": [
    {
     "name": "stdout",
     "output_type": "stream",
     "text": [
      "6\n"
     ]
    }
   ],
   "source": [
    "# 27.Retrieve the element at index (1, 2) from the 2D NumPy array.\n",
    "#    arr_2d = np.array([[1, 2, 3], ",
    "\n",
    "#    [4, 5, 6], ",
    "\n",
    "#    [7, 8, 9]])\n",
    "\n",
    "import numpy as np\n",
    "arr_2d = np.array([[1, 2, 3],\n",
    "                   [4, 5, 6],\n",
    "                   [7, 8, 9]])\n",
    "element = arr_2d[1, 2]\n",
    "print(element)\n"
   ]
  },
  {
   "cell_type": "code",
   "execution_count": 28,
   "id": "eb52b6de-97f2-4df4-a96a-9b65be89c08a",
   "metadata": {},
   "outputs": [
    {
     "name": "stdout",
     "output_type": "stream",
     "text": [
      "[ 8 10  7]\n"
     ]
    }
   ],
   "source": [
    "# 28.Using boolean indexing, extract elements greater than 5 from the given NumPy array.\n",
    "#    arr = np.array([3, 8, 2, 10, 5, 7])\n",
    "\n",
    "import numpy as np\n",
    "arr = np.array([3, 8, 2, 10, 5, 7])\n",
    "mask = arr > 5\n",
    "result = arr[mask]\n",
    "print(result)"
   ]
  },
  {
   "cell_type": "code",
   "execution_count": 29,
   "id": "6e29612e-c9a0-4970-9146-ad5eee932548",
   "metadata": {},
   "outputs": [
    {
     "name": "stdout",
     "output_type": "stream",
     "text": [
      "[3 4 5 6]\n"
     ]
    }
   ],
   "source": [
    "# 29.Perform basic slicing to extract elements from index 2 to 5 (inclusive) from the given NumPy array.\n",
    "#    arr = np.array([1, 2, 3, 4, 5, 6, 7, 8, 9])\n",
    "\n",
    "import numpy as np\n",
    "arr = np.array([1, 2, 3, 4, 5, 6, 7, 8, 9])\n",
    "sliced_arr = arr[2:6]\n",
    "print(sliced_arr)"
   ]
  },
  {
   "cell_type": "code",
   "execution_count": 30,
   "id": "21dd9ba1-dc95-4cb6-80ed-c5a0b8c593e2",
   "metadata": {},
   "outputs": [
    {
     "name": "stdout",
     "output_type": "stream",
     "text": [
      "[[2 3]\n",
      " [5 6]]\n"
     ]
    }
   ],
   "source": [
    "# 30.Slice the 2D NumPy array to extract the sub-array `[[2, 3], [5, 6]]` from the given array.\n",
    "#    arr_2d = np.array([[1, 2, 3], ",
    "\n",
    "#                       [4, 5, 6], ",
    "\n",
    "#                       [7, 8, 9]])\n",
    "\n",
    "import numpy as np\n",
    "arr_2d = np.array([[1, 2, 3],\n",
    "                   [4, 5, 6],\n",
    "                   [7, 8, 9]])\n",
    "sub_array = arr_2d[0:2, 1:3]\n",
    "print(sub_array)"
   ]
  },
  {
   "cell_type": "code",
   "execution_count": 31,
   "id": "2c230e52-a572-4fe2-90d4-d66655a146d5",
   "metadata": {},
   "outputs": [
    {
     "name": "stdout",
     "output_type": "stream",
     "text": [
      "[1 5 9]\n"
     ]
    }
   ],
   "source": [
    "# 31.Write a NumPy function to extract elements in specific order from a given 2D array based on indices \n",
    "#    provided in another array.\n",
    "\n",
    "import numpy as np\n",
    "def extract_elements(arr, indices):\n",
    "    return np.take(arr, indices)\n",
    "arr_2d = np.array([[1, 2, 3],\n",
    "                   [4, 5, 6],\n",
    "                   [7, 8, 9]])\n",
    "indices = np.array([0, 4, 8])\n",
    "extracted_elements = extract_elements(arr_2d, indices)\n",
    "print(extracted_elements)"
   ]
  },
  {
   "cell_type": "code",
   "execution_count": 32,
   "id": "6f3f790d-05bf-42b3-8c13-bde2211700a8",
   "metadata": {},
   "outputs": [
    {
     "name": "stdout",
     "output_type": "stream",
     "text": [
      "[ 8 10  7]\n"
     ]
    }
   ],
   "source": [
    "# 32.Create a NumPy function that filters elements greater than a threshold from a given 1D array using \n",
    "#    boolean indexing.\n",
    "\n",
    "import numpy as np\n",
    "def filter_greater_than(arr, threshold):\n",
    "    return arr[arr > threshold]\n",
    "arr = np.array([3, 8, 2, 10, 5, 7])\n",
    "threshold = 5\n",
    "filtered_arr = filter_greater_than(arr, threshold)\n",
    "print(filtered_arr)"
   ]
  },
  {
   "cell_type": "code",
   "execution_count": 33,
   "id": "acc1cc60-e00c-4485-aef7-ee46c75a6dc6",
   "metadata": {},
   "outputs": [
    {
     "name": "stdout",
     "output_type": "stream",
     "text": [
      "[ 2 15 25]\n"
     ]
    }
   ],
   "source": [
    "# 33.Develop a NumPy function that extracts specific elements from a 3D array using indices provided in three \n",
    "#    separate arrays for each dimension.\n",
    "\n",
    "import numpy as np\n",
    "def extract_elements_3d(arr, depth_indices, row_indices, col_indices):\n",
    "    return arr[depth_indices, row_indices, col_indices]\n",
    "arr_3d = np.array([[[ 1,  2,  3],\n",
    "                    [ 4,  5,  6],\n",
    "                    [ 7,  8,  9]],\n",
    "                   \n",
    "                   [[10, 11, 12],\n",
    "                    [13, 14, 15],\n",
    "                    [16, 17, 18]],\n",
    "                   \n",
    "                   [[19, 20, 21],\n",
    "                    [22, 23, 24],\n",
    "                    [25, 26, 27]]])\n",
    "depth_indices = np.array([0, 1, 2])\n",
    "row_indices = np.array([0, 1, 2])\n",
    "col_indices = np.array([1, 2, 0])\n",
    "extracted_elements = extract_elements_3d(arr_3d, depth_indices, row_indices, col_indices)\n",
    "print(extracted_elements)"
   ]
  },
  {
   "cell_type": "code",
   "execution_count": 34,
   "id": "684a3a04-ee8a-4f7a-81ed-fd017377f76b",
   "metadata": {},
   "outputs": [
    {
     "name": "stdout",
     "output_type": "stream",
     "text": [
      "[4 5 6 7]\n"
     ]
    }
   ],
   "source": [
    "# 34.Write a NumPy function that returns elements from an array where both two conditions are satisfied \n",
    "#    using boolean indexing.\n",
    "\n",
    "import numpy as np\n",
    "def filter_array(arr, condition1, condition2):\n",
    "    return arr[(condition1) & (condition2)]\n",
    "arr = np.array([1, 2, 3, 4, 5, 6, 7, 8, 9, 10])\n",
    "condition1 = arr > 3\n",
    "condition2 = arr < 8\n",
    "filtered_arr = filter_array(arr, condition1, condition2)\n",
    "print(filtered_arr)\n"
   ]
  },
  {
   "cell_type": "code",
   "execution_count": 35,
   "id": "a1fba4d3-bc6d-4477-afb5-46a6919086d5",
   "metadata": {},
   "outputs": [
    {
     "name": "stdout",
     "output_type": "stream",
     "text": [
      "[30 40 80]\n"
     ]
    }
   ],
   "source": [
    "# 35.Create a NumPy function that extracts elements from a 2D array using row and column indices provided \n",
    "#    in separate arrays.\n",
    "\n",
    "import numpy as np\n",
    "def extract_elements(arr, row_indices, col_indices):\n",
    "    return arr[row_indices, col_indices]\n",
    "arr = np.array([[10, 20, 30], [40, 50, 60], [70, 80, 90]])\n",
    "row_indices = np.array([0, 1, 2])\n",
    "col_indices = np.array([2, 0, 1])\n",
    "extracted_elements = extract_elements(arr, row_indices, col_indices)\n",
    "print(extracted_elements)"
   ]
  },
  {
   "cell_type": "code",
   "execution_count": 1,
   "id": "86aa3c26-3a5a-4eac-9568-7967f67d53a6",
   "metadata": {},
   "outputs": [
    {
     "name": "stdout",
     "output_type": "stream",
     "text": [
      "[[ 6  7  8]\n",
      " [ 9 10 11]\n",
      " [12 13 14]]\n"
     ]
    }
   ],
   "source": [
    "# 36.Given an array arr of shape (3, 3), add a scalar value of 5 to each element using NumPy broadcasting\n",
    "\n",
    "import numpy as np\n",
    "arr = np.array([[1, 2, 3], [4, 5, 6], [7, 8, 9]])\n",
    "result = arr + 5\n",
    "print(result)"
   ]
  },
  {
   "cell_type": "code",
   "execution_count": 2,
   "id": "878a9d5d-d41a-4390-b06d-8b7e370c91f4",
   "metadata": {},
   "outputs": [
    {
     "name": "stdout",
     "output_type": "stream",
     "text": [
      "[[ 4  5  6  7]\n",
      " [16 18 20 22]\n",
      " [36 39 42 45]]\n"
     ]
    }
   ],
   "source": [
    "# 37.Consider two arrays arr1 of shape (1, 3) and arr2 of shape (3, 4). Multiply each row of arr2 by the \n",
    "#    corresponding element in arr1 using NumPy broadcasting.\n",
    "\n",
    "import numpy as np\n",
    "arr1 = np.array([[1, 2, 3]])\n",
    "arr2 = np.array([[4, 5, 6, 7], [8, 9, 10, 11], [12, 13, 14, 15]])\n",
    "result = arr2 * arr1.T\n",
    "print(result)"
   ]
  },
  {
   "cell_type": "code",
   "execution_count": 4,
   "id": "73e07a24-b3da-44bc-af51-1ebe3cbf51de",
   "metadata": {},
   "outputs": [
    {
     "name": "stdout",
     "output_type": "stream",
     "text": [
      "[[ 6  7  8]\n",
      " [10 11 12]\n",
      " [14 15 16]\n",
      " [18 19 20]]\n"
     ]
    }
   ],
   "source": [
    "# 38.Given a 1D array arr1 of shape (1, 4) and a 2D array arr2 of shape (4, 3), add arr1 to each row of arr2 using NumPy broadcasting.\n",
    "\n",
    "import numpy as np\n",
    "arr1 = np.array([[1, 2, 3, 4]])\n",
    "arr2 = np.array([[5, 6, 7], [8, 9, 10], [11, 12, 13], [14, 15, 16]])\n",
    "result = arr2 + arr1.T\n",
    "print(result)"
   ]
  },
  {
   "cell_type": "code",
   "execution_count": 7,
   "id": "6eec2385-25e3-420f-8d24-01cfca3d1866",
   "metadata": {},
   "outputs": [
    {
     "name": "stdout",
     "output_type": "stream",
     "text": [
      "[[5 6 7]\n",
      " [6 7 8]\n",
      " [7 8 9]]\n"
     ]
    }
   ],
   "source": [
    "# 39.Consider two arrays arr1 of shape (3, 1) and arr2 of shape (1, 3). Add these arrays using NumPy \n",
    "#    broadcasting.\n",
    "\n",
    "import numpy as np\n",
    "arr1 = np.array([[1], [2], [3]])\n",
    "arr2 = np.array([[4, 5, 6]])\n",
    "result = arr1 + arr2\n",
    "print(result)\n"
   ]
  },
  {
   "cell_type": "code",
   "execution_count": 8,
   "id": "5ad98cab-d386-48a8-b3f1-f16efcd2104b",
   "metadata": {},
   "outputs": [
    {
     "name": "stdout",
     "output_type": "stream",
     "text": [
      "[[[ 7 14 21]\n",
      "  [32 40 48]]\n",
      "\n",
      " [[ 9 18 27]\n",
      "  [40 50 60]]]\n"
     ]
    }
   ],
   "source": [
    "# 40.Given arrays arr1 of shape (2, 3) and arr2 of shape (2, 2), perform multiplication using NumPy \n",
    "#    broadcasting. Handle the shape incompatibility.\n",
    "\n",
    "import numpy as np\n",
    "arr1 = np.array([[1, 2, 3], [4, 5, 6]])\n",
    "arr2 = np.array([[7, 8], [9, 10]])\n",
    "arr2_expanded = arr2[:, :, np.newaxis]\n",
    "result = arr1 * arr2_expanded\n",
    "print(result)"
   ]
  },
  {
   "cell_type": "code",
   "execution_count": 9,
   "id": "019b9bb8-774b-47db-88cd-ffd19e389d1c",
   "metadata": {},
   "outputs": [
    {
     "name": "stdout",
     "output_type": "stream",
     "text": [
      "[2.5 3.5 4.5]\n"
     ]
    }
   ],
   "source": [
    "# 41.Calculate column-wise mean for the given array:\n",
    "#    arr = np.array([[1, 2, 3], [4, 5, 6]])\n",
    "\n",
    "import numpy as np\n",
    "arr = np.array([[1, 2, 3], [4, 5, 6]])\n",
    "column_mean = np.mean(arr, axis=0)\n",
    "print(column_mean)"
   ]
  },
  {
   "cell_type": "code",
   "execution_count": 10,
   "id": "e5befa06-c298-4bf6-911a-510b76712cb0",
   "metadata": {},
   "outputs": [
    {
     "name": "stdout",
     "output_type": "stream",
     "text": [
      "[3 6]\n"
     ]
    }
   ],
   "source": [
    "# 42.Find maximum value in each row of the given array:\n",
    "#    arr = np.array([[1, 2, 3], [4, 5, 6]])\n",
    "\n",
    "import numpy as np\n",
    "arr = np.array([[1, 2, 3], [4, 5, 6]])\n",
    "row_max = np.max(arr, axis=1)\n",
    "print(row_max)"
   ]
  },
  {
   "cell_type": "code",
   "execution_count": 11,
   "id": "c4a0a778-c8e4-4bc4-a814-641d3abe4e03",
   "metadata": {},
   "outputs": [
    {
     "name": "stdout",
     "output_type": "stream",
     "text": [
      "[1 1 1]\n"
     ]
    }
   ],
   "source": [
    "# 43.For the given array, find indices of maximum value in each column.\n",
    "#    arr = np.array([[1, 2, 3], [4, 5, 6]])\n",
    "\n",
    "import numpy as np\n",
    "arr = np.array([[1, 2, 3], [4, 5, 6]])\n",
    "column_max_indices = np.argmax(arr, axis=0)\n",
    "print(column_max_indices)"
   ]
  },
  {
   "cell_type": "code",
   "execution_count": 12,
   "id": "554beb53-b453-4a4a-9e49-cbcf57cbf73d",
   "metadata": {},
   "outputs": [
    {
     "name": "stdout",
     "output_type": "stream",
     "text": [
      "[[ 1  3  5]\n",
      " [ 4  9 11]]\n"
     ]
    }
   ],
   "source": [
    "# 44.For the given array, apply custom function to calculate moving sum along rows.\n",
    "#    arr = np.array([[1, 2, 3], [4, 5, 6]])\n",
    "\n",
    "import numpy as np\n",
    "arr = np.array([[1, 2, 3], [4, 5, 6]])\n",
    "def moving_sum(arr, window_size):\n",
    "    result = np.zeros_like(arr)\n",
    "    for i in range(arr.shape[0]):\n",
    "        for j in range(arr.shape[1]):\n",
    "            start = max(0, j - window_size + 1)\n",
    "            result[i, j] = np.sum(arr[i, start:j+1])\n",
    "    return result\n",
    "window_size = 2\n",
    "moving_sum_result = moving_sum(arr, window_size)\n",
    "print(moving_sum_result)"
   ]
  },
  {
   "cell_type": "code",
   "execution_count": 13,
   "id": "97667578-b99a-4424-8035-c3cb110a8589",
   "metadata": {},
   "outputs": [
    {
     "name": "stdout",
     "output_type": "stream",
     "text": [
      "[False False False]\n"
     ]
    }
   ],
   "source": [
    "# 45.In the given array, check if all elements in each column are even.\n",
    "#    arr = np.array([[2, 4, 6], [3, 5, 7]])\n",
    "\n",
    "import numpy as np\n",
    "arr = np.array([[2, 4, 6], [3, 5, 7]])\n",
    "all_even_columns = np.all(arr % 2 == 0, axis=0)\n",
    "print(all_even_columns)"
   ]
  },
  {
   "cell_type": "code",
   "execution_count": 16,
   "id": "73daedca-59c8-4db1-b4cd-8af4c501f83b",
   "metadata": {},
   "outputs": [
    {
     "name": "stdout",
     "output_type": "stream",
     "text": [
      "[[1 2 3]\n",
      " [4 5 6]]\n"
     ]
    }
   ],
   "source": [
    "# 46.Given a NumPy array arr, reshape it into a matrix of dimensions `m` rows and `n` columns. Return the \n",
    "#    reshaped matrix.\n",
    "#    original_array = np.array([1, 2, 3, 4, 5, 6])\n",
    "\n",
    "import numpy as np\n",
    "original_array = np.array([1, 2, 3, 4, 5, 6])\n",
    "m, n = 2, 3\n",
    "reshaped_matrix = original_array.reshape(m, n)\n",
    "print(reshaped_matrix)"
   ]
  },
  {
   "cell_type": "code",
   "execution_count": 17,
   "id": "5e8857b2-f8b4-4b60-b242-28bb8b612e86",
   "metadata": {},
   "outputs": [
    {
     "name": "stdout",
     "output_type": "stream",
     "text": [
      "[1 2 3 4 5 6]\n"
     ]
    }
   ],
   "source": [
    "# 47.Create a function that takes a matrix as input and returns the flattened array.\n",
    "#    input_matrix = np.array([[1, 2, 3], [4, 5, 6]])\n",
    "\n",
    "import numpy as np\n",
    "def flatten_matrix(matrix):\n",
    "    return matrix.flatten()\n",
    "input_matrix = np.array([[1, 2, 3], [4, 5, 6]])\n",
    "flattened_array = flatten_matrix(input_matrix)\n",
    "print(flattened_array)"
   ]
  },
  {
   "cell_type": "code",
   "execution_count": 19,
   "id": "80c3efc4-e008-452e-a65c-c7471adfd5fb",
   "metadata": {},
   "outputs": [
    {
     "name": "stdout",
     "output_type": "stream",
     "text": [
      "[[1 2]\n",
      " [3 4]\n",
      " [5 6]\n",
      " [7 8]]\n"
     ]
    }
   ],
   "source": [
    "# 48. Write a function that concatenates two given arrays along a specified axis.\n",
    "#     array1 = np.array([[1, 2], [3, 4]]) ",
    "\n",
    "#     array2 = np.array([[5, 6], [7, 8]])\n",
    "\n",
    "import numpy as np\n",
    "def concatenate_arrays(array1, array2, axis):\n",
    "    return np.concatenate((array1, array2), axis=axis)\n",
    "array1 = np.array([[1, 2], [3, 4]])\n",
    "array2 = np.array([[5, 6], [7, 8]])\n",
    "concatenated_array = concatenate_arrays(array1, array2, axis=0)\n",
    "print(concatenated_array)"
   ]
  },
  {
   "cell_type": "code",
   "execution_count": 21,
   "id": "a6f1410b-6b9e-42fa-b6b5-79d3a9a671c9",
   "metadata": {},
   "outputs": [
    {
     "name": "stdout",
     "output_type": "stream",
     "text": [
      "[array([[1, 2, 3]]), array([[4, 5, 6]]), array([[7, 8, 9]])]\n"
     ]
    }
   ],
   "source": [
    "# 49.Create a function that splits an array into multiple sub-arrays along a specified axis.\n",
    "#    original_array = np.array([[1, 2, 3], [4, 5, 6], [7, 8, 9]])\n",
    "\n",
    "import numpy as np\n",
    "def split_array(array, indices_or_sections, axis):\n",
    "    return np.split(array, indices_or_sections, axis=axis)\n",
    "original_array = np.array([[1, 2, 3], [4, 5, 6], [7, 8, 9]])\n",
    "sub_arrays = split_array(original_array, 3, axis=0)\n",
    "print(sub_arrays)"
   ]
  },
  {
   "cell_type": "code",
   "execution_count": 22,
   "id": "9a6cd388-f607-4f51-adfd-7a620d131b5c",
   "metadata": {},
   "outputs": [
    {
     "name": "stdout",
     "output_type": "stream",
     "text": [
      "[ 1 10  4 11  5]\n"
     ]
    }
   ],
   "source": [
    "# 50.Write a function that inserts and then deletes elements from a given array at specified indices.\n",
    "#    original_array = np.array([1, 2, 3, 4, 5]) ",
    "\n",
    "#    indices_to_insert = [2, 4] ",
    "\n",
    "#    values_to_insert = [10, 11] ",
    "\n",
    "#    indices_to_delete = [1, 3]\n",
    "\n",
    "import numpy as np\n",
    "def insert_and_delete_elements(array, insert_indices, insert_values, delete_indices):\n",
    "    array = np.insert(array, insert_indices, insert_values)\n",
    "    array = np.delete(array, delete_indices)\n",
    "    return array\n",
    "original_array = np.array([1, 2, 3, 4, 5])\n",
    "indices_to_insert = [2, 4]\n",
    "values_to_insert = [10, 11]\n",
    "indices_to_delete = [1, 3]\n",
    "result_array = insert_and_delete_elements(original_array, indices_to_insert, values_to_insert, indices_to_delete)\n",
    "print(result_array)"
   ]
  },
  {
   "cell_type": "code",
   "execution_count": 23,
   "id": "cba58bcf-b0ab-4668-81d4-f124d976af5b",
   "metadata": {},
   "outputs": [
    {
     "name": "stdout",
     "output_type": "stream",
     "text": [
      "arr1: [2 4 2 1 3 3 2 5 4 9]\n",
      "arr2: [ 1  2  3  4  5  6  7  8  9 10]\n",
      "Result: [ 3  6  5  5  8  9  9 13 13 19]\n"
     ]
    }
   ],
   "source": [
    "# 51.Create a NumPy array `arr1` with random integers and another array `arr2` with integers from 1 to 10. \n",
    "#    Perform element-wise addition between `arr1` and `arr2`.\n",
    "\n",
    "import numpy as np\n",
    "arr1 = np.random.randint(1, 11, size=10)  # Random integers between 1 and 10, array of size 10\n",
    "arr2 = np.arange(1, 11)\n",
    "result = arr1 + arr2\n",
    "print(\"arr1:\", arr1)\n",
    "print(\"arr2:\", arr2)\n",
    "print(\"Result:\", result)"
   ]
  },
  {
   "cell_type": "code",
   "execution_count": 24,
   "id": "544fb2cc-f6f3-4f6f-b8f4-b8f47d807368",
   "metadata": {},
   "outputs": [
    {
     "name": "stdout",
     "output_type": "stream",
     "text": [
      "arr1: [10  9  8  7  6  5  4  3  2  1]\n",
      "arr2: [ 1  2  3  4  5  6  7  8  9 10]\n",
      "Result: [ 9  7  5  3  1 -1 -3 -5 -7 -9]\n"
     ]
    }
   ],
   "source": [
    "# 52.Generate a NumPy array `arr1` with sequential integers from 10 to 1 and another array `arr2` with integers \n",
    "#    from 1 to 10. Subtract `arr2` from `arr1` element-wise.\n",
    "\n",
    "import numpy as np\n",
    "arr1 = np.arange(10, 0, -1)\n",
    "arr2 = np.arange(1, 11)\n",
    "result = arr1 - arr2\n",
    "print(\"arr1:\", arr1)\n",
    "print(\"arr2:\", arr2)\n",
    "print(\"Result:\", result)"
   ]
  },
  {
   "cell_type": "code",
   "execution_count": 25,
   "id": "1100f449-52b5-4344-80ad-9d74f2ef2572",
   "metadata": {},
   "outputs": [
    {
     "name": "stdout",
     "output_type": "stream",
     "text": [
      "arr1: [3 3 8 7 4]\n",
      "arr2: [1 2 3 4 5]\n",
      "Result: [ 3  6 24 28 20]\n"
     ]
    }
   ],
   "source": [
    "# 53.Create a NumPy array `arr1` with random integers and another array `arr2` with integers from 1 to 5. \n",
    "#    Perform element-wise multiplication between `arr1` and `arr2`.\n",
    "\n",
    "import numpy as np\n",
    "arr1 = np.random.randint(1, 10, size=5)\n",
    "arr2 = np.arange(1, 6)\n",
    "result = np.multiply(arr1, arr2)\n",
    "print(\"arr1:\", arr1)\n",
    "print(\"arr2:\", arr2)\n",
    "print(\"Result:\", result)"
   ]
  },
  {
   "cell_type": "code",
   "execution_count": 26,
   "id": "a76f8af3-733d-46ec-bf50-baa8a2259a34",
   "metadata": {},
   "outputs": [
    {
     "name": "stdout",
     "output_type": "stream",
     "text": [
      "arr1: [ 2  4  6  8 10]\n",
      "arr2: [1 2 3 4 5]\n",
      "Result: [2. 2. 2. 2. 2.]\n"
     ]
    }
   ],
   "source": [
    "# 54.Generate a NumPy array `arr1` with even integers from 2 to 10 and another array `arr2` with integers from 1 \n",
    "#    to 5. Perform element-wise division of `arr1` by `arr2`.\n",
    "\n",
    "import numpy as np\n",
    "arr1 = np.arange(2, 11, 2)\n",
    "arr2 = np.arange(1, 6)\n",
    "result = np.divide(arr1, arr2)\n",
    "print(\"arr1:\", arr1)\n",
    "print(\"arr2:\", arr2)\n",
    "print(\"Result:\", result)"
   ]
  },
  {
   "cell_type": "code",
   "execution_count": 27,
   "id": "51d97fb7-609e-43ca-8dff-fec4317e2486",
   "metadata": {},
   "outputs": [
    {
     "name": "stdout",
     "output_type": "stream",
     "text": [
      "arr1: [1 2 3 4 5]\n",
      "arr2: [5 4 3 2 1]\n",
      "Result: [ 1 16 27 16  5]\n"
     ]
    }
   ],
   "source": [
    "# 55.Create a NumPy array `arr1` with integers from 1 to 5 and another array `arr2` with the same numbers \n",
    "#    reversed. Calculate the exponentiation of `arr1` raised to the power of `arr2` element-wise\n",
    "\n",
    "import numpy as np\n",
    "arr1 = np.arange(1, 6)\n",
    "arr2 = arr1[::-1]\n",
    "result = np.power(arr1, arr2)\n",
    "print(\"arr1:\", arr1)\n",
    "print(\"arr2:\", arr2)\n",
    "print(\"Result:\", result)"
   ]
  },
  {
   "cell_type": "code",
   "execution_count": 28,
   "id": "e05d6d9b-50df-4946-88dd-9914b4f08d7a",
   "metadata": {},
   "outputs": [
    {
     "name": "stdout",
     "output_type": "stream",
     "text": [
      "Array: ['hello' 'world' 'hello' 'numpy' 'hello']\n",
      "Occurrences of 'hello': [1 0 1 0 1]\n"
     ]
    }
   ],
   "source": [
    "# 56.Write a function that counts the occurrences of a specific substring within a NumPy array of strings.\n",
    "#    arr = np.array(['hello', 'world', 'hello', 'numpy', 'hello'])\n",
    "\n",
    "import numpy as np\n",
    "def count_substring(arr, substring):\n",
    "    return np.char.count(arr, substring)\n",
    "arr = np.array(['hello', 'world', 'hello', 'numpy', 'hello'])\n",
    "substring = 'hello'\n",
    "result = count_substring(arr, substring)\n",
    "print(\"Array:\", arr)\n",
    "print(f\"Occurrences of '{substring}':\", result)"
   ]
  },
  {
   "cell_type": "code",
   "execution_count": 29,
   "id": "b1c5a1bc-6985-436a-a02e-49f33897a380",
   "metadata": {},
   "outputs": [
    {
     "name": "stdout",
     "output_type": "stream",
     "text": [
      "Array: ['Hello' 'World' 'OpenAI' 'GPT']\n",
      "Uppercase characters: ['H' 'W' 'OAI' 'GPT']\n"
     ]
    }
   ],
   "source": [
    "# 57.Write a function that extracts uppercase characters from a NumPy array of strings.\n",
    "#    arr = np.array(['Hello', 'World', 'OpenAI', 'GPT'])\n",
    "#    arr = np.array(['Hello', 'World', 'OpenAI', 'GPT'])\n",
    "\n",
    "import numpy as np\n",
    "def extract_uppercase(arr):\n",
    "    uppercase_chars = np.char.join('', np.char.split(arr))\n",
    "    return np.array([''.join([char for char in word if char.isupper()]) for word in uppercase_chars])\n",
    "arr = np.array(['Hello', 'World', 'OpenAI', 'GPT'])\n",
    "result = extract_uppercase(arr)\n",
    "print(\"Array:\", arr)\n",
    "print(\"Uppercase characters:\", result)"
   ]
  },
  {
   "cell_type": "code",
   "execution_count": 30,
   "id": "a3adfce5-a3f4-48a2-a1a2-13841eb3a994",
   "metadata": {},
   "outputs": [
    {
     "name": "stdout",
     "output_type": "stream",
     "text": [
      "Array: ['apple' 'banana' 'grape' 'pineapple']\n",
      "Array after replacing 'apple' with 'orange': ['orange' 'banana' 'grape' 'pineorange']\n"
     ]
    }
   ],
   "source": [
    "# 58.Write a function that replaces occurrences of a substring in a NumPy array of strings with a new string.\n",
    "#    arr = np.array(['apple', 'banana', 'grape', 'pineapple'])\n",
    "\n",
    "import numpy as np\n",
    "def replace_substring(arr, old, new):\n",
    "    return np.char.replace(arr, old, new)\n",
    "arr = np.array(['apple', 'banana', 'grape', 'pineapple'])\n",
    "old_substring = 'apple'\n",
    "new_substring = 'orange'\n",
    "result = replace_substring(arr, old_substring, new_substring)\n",
    "print(\"Array:\", arr)\n",
    "print(f\"Array after replacing '{old_substring}' with '{new_substring}':\", result)"
   ]
  },
  {
   "cell_type": "code",
   "execution_count": 31,
   "id": "80401b7b-43e9-44d0-a5e1-efb21fb6b526",
   "metadata": {},
   "outputs": [
    {
     "name": "stdout",
     "output_type": "stream",
     "text": [
      "arr1: ['Hello' 'World']\n",
      "arr2: ['Open' 'AI']\n",
      "Concatenated result: ['HelloOpen' 'WorldAI']\n"
     ]
    }
   ],
   "source": [
    "# 59.Write a function that concatenates strings in a NumPy array element-wise.\n",
    "#    arr1 = np.array(['Hello', 'World']) ",
    "\n",
    "#    arr2 = np.array(['Open', 'AI'])\n",
    "\n",
    "import numpy as np\n",
    "def concatenate_strings(arr1, arr2):\n",
    "    return np.char.add(arr1, arr2)\n",
    "arr1 = np.array(['Hello', 'World'])\n",
    "arr2 = np.array(['Open', 'AI'])\n",
    "result = concatenate_strings(arr1, arr2)\n",
    "print(\"arr1:\", arr1)\n",
    "print(\"arr2:\", arr2)\n",
    "print(\"Concatenated result:\", result)"
   ]
  },
  {
   "cell_type": "code",
   "execution_count": 32,
   "id": "e4662c18-d154-40f7-84c8-6f6124671e05",
   "metadata": {},
   "outputs": [
    {
     "name": "stdout",
     "output_type": "stream",
     "text": [
      "Array: ['apple' 'banana' 'grape' 'pineapple']\n",
      "Length of the longest string: 9\n"
     ]
    }
   ],
   "source": [
    "# 60.Write a function that finds the length of the longest string in a NumPy array.\n",
    "#    arr = np.array(['apple', 'banana', 'grape', 'pineapple'])\n",
    "#    arr = np.array(['apple', 'banana', 'grape', 'pineapple'])\n",
    "\n",
    "import numpy as np\n",
    "def length_of_longest_string(arr):\n",
    "    longest_string = max(arr, key=len)\n",
    "    return len(longest_string)\n",
    "arr = np.array(['apple', 'banana', 'grape', 'pineapple'])\n",
    "result = length_of_longest_string(arr)\n",
    "print(\"Array:\", arr)\n",
    "print(\"Length of the longest string:\", result)"
   ]
  },
  {
   "cell_type": "code",
   "execution_count": 34,
   "id": "7c998cdc-5cf7-4491-afe7-868ae715d4ea",
   "metadata": {},
   "outputs": [
    {
     "name": "stdout",
     "output_type": "stream",
     "text": [
      "Dataset: [152 541 830  92   1 193 522 366 980 492 391 461 380 283 913 716 181 812\n",
      " 294 734 896 217  58 793 541 436 196 276 393 607  90 980  47  31 966 344\n",
      " 926 694 921 553 584 747 853 497 837 738   5 391 945 849   8 306 738 521\n",
      " 514 464 657 899 285 417 697  83 851 610 103 732 261 578 936 835 322  76\n",
      " 314 834 222  87 617 291 659 396 455 905 424 848 339   5 384 901  42 616\n",
      " 736 809 948 774 398 700 210 599  17 431]\n",
      "Mean: 505.99\n",
      "Median: 505.5\n",
      "Variance: 86382.6099\n",
      "Standard Deviation: 293.909186484533\n"
     ]
    }
   ],
   "source": [
    "# 61.Create a dataset of 100 random integers between 1 and 1000. Compute the mean, median, variance, and \n",
    "#   standard deviation of the dataset using NumPy's functions.\n",
    "\n",
    "import numpy as np\n",
    "dataset = np.random.randint(1, 1001, size=100)\n",
    "mean = np.mean(dataset)\n",
    "median = np.median(dataset)\n",
    "variance = np.var(dataset)\n",
    "std_deviation = np.std(dataset)\n",
    "print(\"Dataset:\", dataset)\n",
    "print(\"Mean:\", mean)\n",
    "print(\"Median:\", median)\n",
    "print(\"Variance:\", variance)\n",
    "print(\"Standard Deviation:\", std_deviation)"
   ]
  },
  {
   "cell_type": "code",
   "execution_count": 35,
   "id": "c41be8ce-104d-4894-b361-d68512027b8d",
   "metadata": {},
   "outputs": [
    {
     "name": "stdout",
     "output_type": "stream",
     "text": [
      "Random Numbers: [18 25 92 97 50 94 73  2 72 66 97 20 69 43 36 50 55 53 98 87 52 15  1 93\n",
      " 33 31 42 33 89 94 12 84 49 79 38  5 28 46 23 91 20 16 54 78 98 55 74 63\n",
      " 88  1]\n",
      "25th Percentile: 28.75\n",
      "75th Percentile: 82.75\n"
     ]
    }
   ],
   "source": [
    "# 62.Generate an array of 50 random numbers between 1 and 100. Find the 25th and 75th percentiles of the \n",
    "#   dataset.\n",
    "\n",
    "import numpy as np\n",
    "random_numbers = np.random.randint(1, 101, size=50)\n",
    "percentile_25 = np.percentile(random_numbers, 25)\n",
    "percentile_75 = np.percentile(random_numbers, 75)\n",
    "print(\"Random Numbers:\", random_numbers)\n",
    "print(\"25th Percentile:\", percentile_25)\n",
    "print(\"75th Percentile:\", percentile_75)"
   ]
  },
  {
   "cell_type": "code",
   "execution_count": 36,
   "id": "e3d94854-5f7a-46c4-bcd5-6c4cd8426f3f",
   "metadata": {},
   "outputs": [
    {
     "name": "stdout",
     "output_type": "stream",
     "text": [
      "Array 1: [31 74 51 67 67 61 18 45 96 94 58 40 51  4  5 52 97 51 27 25 45 67 72 44\n",
      " 90 70 66 74 82 87 85 67 29 35 28 24 42 64 81 87 48 72  8 88 13 27 15 83\n",
      " 83 89]\n",
      "Array 2: [60 71 44 54  2 25 88  6 89 97 20 79 98 35 72 71 86 44 57 24 50 35 62 89\n",
      " 64 19 33 67 14 98 46 52 69 55 10 88 75 14 71 84 60 99 81 93 76 44  8  5\n",
      " 12 14]\n",
      "Correlation Coefficient Matrix:\n",
      " [[1.        0.0331705]\n",
      " [0.0331705 1.       ]]\n",
      "Correlation Coefficient: 0.03317050213618467\n"
     ]
    }
   ],
   "source": [
    "# 63.Create two arrays representing two sets of variables. Compute the correlation coefficient between these \n",
    "#    arrays using NumPy's `corrcoef` function.\n",
    "\n",
    "import numpy as np\n",
    "array1 = np.random.randint(1, 101, size=50)\n",
    "array2 = np.random.randint(1, 101, size=50)\n",
    "correlation_matrix = np.corrcoef(array1, array2)\n",
    "correlation_coefficient = correlation_matrix[0, 1]\n",
    "print(\"Array 1:\", array1)\n",
    "print(\"Array 2:\", array2)\n",
    "print(\"Correlation Coefficient Matrix:\\n\", correlation_matrix)\n",
    "print(\"Correlation Coefficient:\", correlation_coefficient)"
   ]
  },
  {
   "cell_type": "code",
   "execution_count": 37,
   "id": "3e580e28-6b6a-4704-b42a-680773473c24",
   "metadata": {},
   "outputs": [
    {
     "name": "stdout",
     "output_type": "stream",
     "text": [
      "Matrix 1:\n",
      " [[70 10 10]\n",
      " [ 6 62  5]\n",
      " [13 24 61]]\n",
      "Matrix 2:\n",
      " [[98 16 57]\n",
      " [87 98 16]\n",
      " [47 50 65]]\n",
      "Result of Matrix Multiplication:\n",
      " [[8200 2600 4800]\n",
      " [6217 6422 1659]\n",
      " [6229 5610 5090]]\n"
     ]
    }
   ],
   "source": [
    "# 64.Create two matrices and perform matrix multiplication using NumPy's `dot` function.\n",
    "\n",
    "import numpy as np\n",
    "matrix1 = np.random.randint(1, 101, size=(3, 3))\n",
    "matrix2 = np.random.randint(1, 101, size=(3, 3))\n",
    "result = np.dot(matrix1, matrix2)\n",
    "print(\"Matrix 1:\\n\", matrix1)\n",
    "print(\"Matrix 2:\\n\", matrix2)\n",
    "print(\"Result of Matrix Multiplication:\\n\", result)"
   ]
  },
  {
   "cell_type": "code",
   "execution_count": 38,
   "id": "6d78d747-e7db-40a9-a40d-017e2d5f7d46",
   "metadata": {},
   "outputs": [
    {
     "name": "stdout",
     "output_type": "stream",
     "text": [
      "Array: [595 806 320  13 227 191 914 130 896 299 305 549 515 954 920 678 800 763\n",
      " 287 557 617 319 976 248 549 335 554 760 835 285 451 466 149  73  67 202\n",
      " 186 149 728 845  66 309 810 943 567 300 207 458 406 135]\n",
      "10th Percentile: 134.5\n",
      "50th Percentile (Median): 454.5\n",
      "90th Percentile: 897.8000000000001\n",
      "First Quartile (25th Percentile): 232.25\n",
      "Third Quartile (75th Percentile): 752.0\n"
     ]
    }
   ],
   "source": [
    "# 65.Create an array of 50 integers between 10 and 1000. Calculate the 10th, 50th (median), and 90th \n",
    "#    percentiles along with the first and third quartiles.\n",
    "\n",
    "import numpy as np\n",
    "array = np.random.randint(10, 1001, size=50)\n",
    "percentile_10 = np.percentile(array, 10)\n",
    "percentile_50 = np.percentile(array, 50)\n",
    "percentile_90 = np.percentile(array, 90)\n",
    "first_quartile = np.percentile(array, 25)\n",
    "third_quartile = np.percentile(array, 75)\n",
    "print(\"Array:\", array)\n",
    "print(\"10th Percentile:\", percentile_10)\n",
    "print(\"50th Percentile (Median):\", percentile_50)\n",
    "print(\"90th Percentile:\", percentile_90)\n",
    "print(\"First Quartile (25th Percentile):\", first_quartile)\n",
    "print(\"Third Quartile (75th Percentile):\", third_quartile)"
   ]
  },
  {
   "cell_type": "code",
   "execution_count": 39,
   "id": "a3238d70-05df-4f18-911b-e8dbc0f850cc",
   "metadata": {},
   "outputs": [
    {
     "name": "stdout",
     "output_type": "stream",
     "text": [
      "Array: [ 10  20  30  40  50  60  70  80  90 100]\n",
      "Element to find: 50\n",
      "Index of the element: 4\n"
     ]
    }
   ],
   "source": [
    "# 66.Create a NumPy array of integers and find the index of a specific element.\n",
    "\n",
    "import numpy as np\n",
    "array = np.array([10, 20, 30, 40, 50, 60, 70, 80, 90, 100])\n",
    "element_to_find = 50\n",
    "index = np.where(array == element_to_find)[0][0]\n",
    "print(\"Array:\", array)\n",
    "print(\"Element to find:\", element_to_find)\n",
    "print(\"Index of the element:\", index)"
   ]
  },
  {
   "cell_type": "code",
   "execution_count": 40,
   "id": "8ddab2d8-19dc-48e1-a98f-2d715b463450",
   "metadata": {},
   "outputs": [
    {
     "name": "stdout",
     "output_type": "stream",
     "text": [
      "Random Array: [ 61  99  48  16  53  29  13  92  48   6  81  48  40  59 100   5  94  50\n",
      "   1  36  58  68  97  54  69   5   5  24  51  93  58  25  81  87  28  49\n",
      "   8  18  48  58  78  66  93  14  76  79  49  35  25 100]\n",
      "Sorted Array: [  1   5   5   5   6   8  13  14  16  18  24  25  25  28  29  35  36  40\n",
      "  48  48  48  48  49  49  50  51  53  54  58  58  58  59  61  66  68  69\n",
      "  76  78  79  81  81  87  92  93  93  94  97  99 100 100]\n"
     ]
    }
   ],
   "source": [
    "# 67.Generate a random NumPy array and sort it in ascending order.\n",
    "\n",
    "import numpy as np\n",
    "random_array = np.random.randint(1, 101, size=50)\n",
    "sorted_array = np.sort(random_array)\n",
    "print(\"Random Array:\", random_array)\n",
    "print(\"Sorted Array:\", sorted_array)"
   ]
  },
  {
   "cell_type": "code",
   "execution_count": 41,
   "id": "0ce2e6df-adcf-4b33-a6aa-6f4440ce93d2",
   "metadata": {},
   "outputs": [
    {
     "name": "stdout",
     "output_type": "stream",
     "text": [
      "Original Array: [12 25  6 42  8 30]\n",
      "Filtered Array (elements > 20): [25 42 30]\n"
     ]
    }
   ],
   "source": [
    "# 68.Filter elements >20  in the given NumPy array.\n",
    "#    arr = np.array([12, 25, 6, 42, 8, 30])\n",
    "\n",
    "import numpy as np\n",
    "arr = np.array([12, 25, 6, 42, 8, 30])\n",
    "filtered_arr = arr[arr > 20]\n",
    "print(\"Original Array:\", arr)\n",
    "print(\"Filtered Array (elements > 20):\", filtered_arr)"
   ]
  },
  {
   "cell_type": "code",
   "execution_count": 42,
   "id": "dd99d5fb-9b89-41ff-a259-9b9bb73aa31c",
   "metadata": {},
   "outputs": [
    {
     "name": "stdout",
     "output_type": "stream",
     "text": [
      "Original Array: [ 1  5  8 12 15]\n",
      "Filtered Array (elements divisible by 3): [12 15]\n"
     ]
    }
   ],
   "source": [
    "# 69.Filter elements which are divisible by 3 from a given NumPy array.\n",
    "#    arr = np.array([1, 5, 8, 12, 15])\n",
    "\n",
    "import numpy as np\n",
    "arr = np.array([1, 5, 8, 12, 15])\n",
    "filtered_arr = arr[arr % 3 == 0]\n",
    "print(\"Original Array:\", arr)\n",
    "print(\"Filtered Array (elements divisible by 3):\", filtered_arr)"
   ]
  },
  {
   "cell_type": "code",
   "execution_count": 43,
   "id": "25725935-059e-402b-bee5-9ac9f5b83245",
   "metadata": {},
   "outputs": [
    {
     "name": "stdout",
     "output_type": "stream",
     "text": [
      "Original Array: [10 20 30 40 50]\n",
      "Filtered Array (elements ≥ 20 and ≤ 40): [20 30 40]\n"
     ]
    }
   ],
   "source": [
    "# 70.Filter elements which are ≥ 20 and ≤ 40 from a given NumPy array.\n",
    "#    arr = np.array([10, 20, 30, 40, 50])\n",
    "\n",
    "import numpy as np\n",
    "arr = np.array([10, 20, 30, 40, 50])\n",
    "filtered_arr = arr[(arr >= 20) & (arr <= 40)]\n",
    "print(\"Original Array:\", arr)\n",
    "print(\"Filtered Array (elements ≥ 20 and ≤ 40):\", filtered_arr)"
   ]
  },
  {
   "cell_type": "code",
   "execution_count": 44,
   "id": "f156251b-aeb0-4a2a-b108-21727252e6c0",
   "metadata": {},
   "outputs": [
    {
     "name": "stdout",
     "output_type": "stream",
     "text": [
      "Array: [1 2 3]\n",
      "Byte Order: =\n"
     ]
    }
   ],
   "source": [
    "# 71.For the given NumPy array, check its byte order using the `dtype` attribute byteorder.\n",
    "#    arr = np.array([1, 2, 3])\n",
    "\n",
    "import numpy as np\n",
    "arr = np.array([1, 2, 3])\n",
    "byte_order = arr.dtype.byteorder\n",
    "print(\"Array:\", arr)\n",
    "print(\"Byte Order:\", byte_order)"
   ]
  },
  {
   "cell_type": "code",
   "execution_count": 45,
   "id": "c860bf3a-8499-45f5-a21f-da25d630a4c2",
   "metadata": {},
   "outputs": [
    {
     "name": "stdout",
     "output_type": "stream",
     "text": [
      "Array after byte swapping: [16777216 33554432 50331648]\n"
     ]
    }
   ],
   "source": [
    "# 72.For the given NumPy array, perform byte swapping in place using `byteswap()`.\n",
    "#    arr = np.array([1, 2, 3], dtype=np.int32)\n",
    "\n",
    "import numpy as np\n",
    "arr = np.array([1, 2, 3], dtype=np.int32)\n",
    "arr.byteswap(inplace=True)\n",
    "print(\"Array after byte swapping:\", arr)"
   ]
  },
  {
   "cell_type": "code",
   "execution_count": 46,
   "id": "a47a8f13-2d3c-44fd-9151-166743afc515",
   "metadata": {},
   "outputs": [
    {
     "name": "stdout",
     "output_type": "stream",
     "text": [
      "Original array: [1 2 3]\n",
      "Swapped byte order array: [1 2 3]\n"
     ]
    }
   ],
   "source": [
    "# 73.For the given NumPy array, swap its byte order without modifying the original array using \n",
    "#    `newbyteorder()`.\n",
    "#    arr = np.array([1, 2, 3], dtype=np.int32)\n",
    "\n",
    "import numpy as np\n",
    "arr = np.array([1, 2, 3], dtype=np.int32)\n",
    "swapped_arr = arr.byteswap().newbyteorder()\n",
    "print(\"Original array:\", arr)\n",
    "print(\"Swapped byte order array:\", swapped_arr)"
   ]
  },
  {
   "cell_type": "code",
   "execution_count": 47,
   "id": "0fac6fbb-8c7d-4c59-80b6-06d2ce0c4165",
   "metadata": {},
   "outputs": [
    {
     "name": "stdout",
     "output_type": "stream",
     "text": [
      "Original array: [1 2 3]\n",
      "Swapped byte order array: [1 2 3]\n"
     ]
    }
   ],
   "source": [
    "# 74.For the given NumPy array and swap its byte order conditionally based on system endianness using \n",
    "#    `newbyteorder()`.\n",
    "#    arr = np.array([1, 2, 3], dtype=np.int32)\n",
    "\n",
    "import numpy as np\n",
    "arr = np.array([1, 2, 3], dtype=np.int32)\n",
    "if arr.dtype.byteorder == '=':  # Native byte order\n",
    "    native_endian = np.dtype(np.int32).newbyteorder('=')\n",
    "else:\n",
    "    native_endian = arr.dtype\n",
    "swapped_arr = arr.byteswap().newbyteorder() if native_endian.byteorder == '>' else arr\n",
    "print(\"Original array:\", arr)\n",
    "print(\"Swapped byte order array:\", swapped_arr)"
   ]
  },
  {
   "cell_type": "code",
   "execution_count": 48,
   "id": "d3a882f9-a502-4120-be68-3d67e1334406",
   "metadata": {},
   "outputs": [
    {
     "name": "stdout",
     "output_type": "stream",
     "text": [
      "No byte swapping necessary.\n",
      "Array byte order: =\n"
     ]
    }
   ],
   "source": [
    "# 75.For the given NumPy array, check if byte swapping is necessary for the current system using `dtype` \n",
    "#    attribute `byteorder`.\n",
    "#    arr = np.array([1, 2, 3], dtype=np.int32)\n",
    "\n",
    "import numpy as np\n",
    "arr = np.array([1, 2, 3], dtype=np.int32)\n",
    "if arr.dtype.byteorder == '=':  # Native byte order\n",
    "    print(\"No byte swapping necessary.\")\n",
    "else:\n",
    "    print(\"Byte swapping necessary.\")\n",
    "print(\"Array byte order:\", arr.dtype.byteorder)"
   ]
  },
  {
   "cell_type": "code",
   "execution_count": 49,
   "id": "f807552c-6d66-43b8-ba8f-60c555b78e11",
   "metadata": {},
   "outputs": [
    {
     "name": "stdout",
     "output_type": "stream",
     "text": [
      "Original array (arr1): [ 1  2  3  4  5  6  7  8  9 10]\n",
      "Copied and modified array (copy_arr): [99  2  3  4  5  6  7  8  9 10]\n"
     ]
    }
   ],
   "source": [
    "# 76.Create a NumPy array `arr1` with values from 1 to 10. Create a copy of `arr1` named `copy_arr` and modify \n",
    "#    an element in `copy_arr`. Check if modifying `copy_arr` affects `arr1`.\n",
    "\n",
    "import numpy as np\n",
    "arr1 = np.arange(1, 11)\n",
    "copy_arr = arr1.copy()\n",
    "copy_arr[0] = 99\n",
    "print(\"Original array (arr1):\", arr1)\n",
    "print(\"Copied and modified array (copy_arr):\", copy_arr)"
   ]
  },
  {
   "cell_type": "code",
   "execution_count": 51,
   "id": "920d04a1-eb89-4bfc-a05a-223bdceed1a0",
   "metadata": {},
   "outputs": [
    {
     "name": "stdout",
     "output_type": "stream",
     "text": [
      "Original matrix:\n",
      " [[ 42  63  95]\n",
      " [ 35 999  36]\n",
      " [ 73  35  97]]\n",
      "View slice:\n",
      " [[999  36]\n",
      " [ 35  97]]\n"
     ]
    }
   ],
   "source": [
    "# 77.Create a 2D NumPy array `matrix` of shape (3, 3) with random integers. Extract a slice `view_slice` from \n",
    "#    the matrix. Modify an element in `view_slice` and observe if it changes the original `matrix`.\n",
    "\n",
    "import numpy as np\n",
    "matrix = np.random.randint(1, 100, size=(3, 3))\n",
    "view_slice = matrix[1:, 1:]\n",
    "view_slice[0, 0] = 999\n",
    "print(\"Original matrix:\\n\", matrix)\n",
    "print(\"View slice:\\n\", view_slice)"
   ]
  },
  {
   "cell_type": "code",
   "execution_count": 52,
   "id": "cd87a50b-8da3-45a4-8276-56ace345adf0",
   "metadata": {},
   "outputs": [
    {
     "name": "stdout",
     "output_type": "stream",
     "text": [
      "Original array (array_a):\n",
      " [[ 1  2  3]\n",
      " [ 4 10 11]\n",
      " [ 7 13 14]\n",
      " [10 11 12]]\n",
      "View slice (view_b):\n",
      " [[10 11]\n",
      " [13 14]]\n"
     ]
    }
   ],
   "source": [
    "# 78.Create a NumPy array `array_a` of shape (4, 3) with sequential integers from 1 to 12. Extract a slice \n",
    "#    `view_b` from `array_a` and broadcast the addition of 5 to view_b. Check if it alters the original `array_a`.\n",
    "\n",
    "import numpy as np\n",
    "array_a = np.arange(1, 13).reshape(4, 3)\n",
    "view_b = array_a[1:3, 1:3]\n",
    "view_b += 5\n",
    "print(\"Original array (array_a):\\n\", array_a)\n",
    "print(\"View slice (view_b):\\n\", view_b)"
   ]
  },
  {
   "cell_type": "code",
   "execution_count": 53,
   "id": "c3b5424a-0273-4a09-826e-0e86e31589b7",
   "metadata": {},
   "outputs": [
    {
     "name": "stdout",
     "output_type": "stream",
     "text": [
      "Original array (orig_array):\n",
      " [[99  2  3  4]\n",
      " [ 5  6  7  8]]\n",
      "Reshaped view (reshaped_view):\n",
      " [[99  2]\n",
      " [ 3  4]\n",
      " [ 5  6]\n",
      " [ 7  8]]\n"
     ]
    }
   ],
   "source": [
    "# 79.Create a NumPy array `orig_array` of shape (2, 4) with values from 1 to 8. Create a reshaped view \n",
    "#    `reshaped_view` of shape (4, 2) from orig_array. Modify an element in `reshaped_view` and check if it \n",
    "#    reflects changes in the original `orig_array`.\n",
    "\n",
    "import numpy as np\n",
    "orig_array = np.arange(1, 9).reshape(2, 4)\n",
    "reshaped_view = orig_array.reshape(4, 2)\n",
    "reshaped_view[0, 0] = 99\n",
    "print(\"Original array (orig_array):\\n\", orig_array)\n",
    "print(\"Reshaped view (reshaped_view):\\n\", reshaped_view)"
   ]
  },
  {
   "cell_type": "code",
   "execution_count": 54,
   "id": "bedebb40-f045-4322-a82c-7c5d389ffecb",
   "metadata": {},
   "outputs": [
    {
     "name": "stdout",
     "output_type": "stream",
     "text": [
      "Original array (data):\n",
      " [[ 9 16 11  6]\n",
      " [18  3  8 12]\n",
      " [ 2  3 12  3]]\n",
      "Copied array (data_copy):\n",
      " [99 16 11  6 18  8 12 12]\n"
     ]
    }
   ],
   "source": [
    "# 80.Create a NumPy array `data` of shape (3, 4) with random integers. Extract a copy `data_copy` of \n",
    "#    elements greater than 5. Modify an element in `data_copy` and verify if it affects the original `data`.\n",
    "\n",
    "import numpy as np\n",
    "data = np.random.randint(1, 20, size=(3, 4))\n",
    "data_copy = data[data > 5].copy()\n",
    "if data_copy.size > 0:  # Ensure there are elements greater than 5\n",
    "    data_copy[0] = 99\n",
    "print(\"Original array (data):\\n\", data)\n",
    "print(\"Copied array (data_copy):\\n\", data_copy)"
   ]
  },
  {
   "cell_type": "code",
   "execution_count": 55,
   "id": "0d75da12-2aaf-48e4-9b1f-d50e1a566c1c",
   "metadata": {},
   "outputs": [
    {
     "name": "stdout",
     "output_type": "stream",
     "text": [
      "Matrix A:\n",
      " [[1 2 3]\n",
      " [4 5 6]\n",
      " [7 8 9]]\n",
      "Matrix B:\n",
      " [[9 8 7]\n",
      " [6 5 4]\n",
      " [3 2 1]]\n",
      "Addition of A and B:\n",
      " [[10 10 10]\n",
      " [10 10 10]\n",
      " [10 10 10]]\n",
      "Subtraction of A and B:\n",
      " [[-8 -6 -4]\n",
      " [-2  0  2]\n",
      " [ 4  6  8]]\n"
     ]
    }
   ],
   "source": [
    "# 81.Create two matrices A and B of identical shape containing integers and perform addition and subtraction \n",
    "#    operations between them.\n",
    "\n",
    "import numpy as np\n",
    "A = np.array([[1, 2, 3], [4, 5, 6], [7, 8, 9]])\n",
    "B = np.array([[9, 8, 7], [6, 5, 4], [3, 2, 1]])\n",
    "addition_result = A + B\n",
    "subtraction_result = A - B\n",
    "print(\"Matrix A:\\n\", A)\n",
    "print(\"Matrix B:\\n\", B)\n",
    "print(\"Addition of A and B:\\n\", addition_result)\n",
    "print(\"Subtraction of A and B:\\n\", subtraction_result)"
   ]
  },
  {
   "cell_type": "code",
   "execution_count": 56,
   "id": "5c43e934-11bf-4c0c-bb81-6f1cca12bd15",
   "metadata": {},
   "outputs": [
    {
     "name": "stdout",
     "output_type": "stream",
     "text": [
      "Matrix C:\n",
      " [[1 2]\n",
      " [3 4]\n",
      " [5 6]]\n",
      "Matrix D:\n",
      " [[ 7  8  9 10]\n",
      " [11 12 13 14]]\n",
      "Matrix multiplication result (C * D):\n",
      " [[ 29  32  35  38]\n",
      " [ 65  72  79  86]\n",
      " [101 112 123 134]]\n"
     ]
    }
   ],
   "source": [
    "# 82.Generate two matrices `C` (3x2) and `D` (2x4) and perform matrix multiplication.\n",
    "\n",
    "import numpy as np\n",
    "C = np.array([[1, 2], [3, 4], [5, 6]])\n",
    "D = np.array([[7, 8, 9, 10], [11, 12, 13, 14]])\n",
    "result = np.dot(C, D)\n",
    "print(\"Matrix C:\\n\", C)\n",
    "print(\"Matrix D:\\n\", D)\n",
    "print(\"Matrix multiplication result (C * D):\\n\", result)"
   ]
  },
  {
   "cell_type": "code",
   "execution_count": 57,
   "id": "d9068f06-5404-4fce-a8f6-6c8ab5abbc53",
   "metadata": {},
   "outputs": [
    {
     "name": "stdout",
     "output_type": "stream",
     "text": [
      "Matrix E:\n",
      " [[1 2 3]\n",
      " [4 5 6]\n",
      " [7 8 9]]\n",
      "Transpose of matrix E:\n",
      " [[1 4 7]\n",
      " [2 5 8]\n",
      " [3 6 9]]\n"
     ]
    }
   ],
   "source": [
    "# 83.Create a matrix `E` and find its transpose.\n",
    "\n",
    "import numpy as np\n",
    "E = np.array([[1, 2, 3], [4, 5, 6], [7, 8, 9]])\n",
    "transpose_E = E.T\n",
    "print(\"Matrix E:\\n\", E)\n",
    "print(\"Transpose of matrix E:\\n\", transpose_E)"
   ]
  },
  {
   "cell_type": "code",
   "execution_count": 58,
   "id": "699f2347-f42a-4639-b80f-265547b7e287",
   "metadata": {},
   "outputs": [
    {
     "name": "stdout",
     "output_type": "stream",
     "text": [
      "Matrix F:\n",
      " [[5 3 9]\n",
      " [8 9 9]\n",
      " [4 3 4]]\n",
      "Determinant of matrix F: -50.99999999999997\n"
     ]
    }
   ],
   "source": [
    "# 84.Generate a square matrix `F` and compute its determinant.\n",
    "\n",
    "import numpy as np\n",
    "F = np.random.randint(1, 10, size=(3, 3))\n",
    "determinant_F = np.linalg.det(F)\n",
    "print(\"Matrix F:\\n\", F)\n",
    "print(\"Determinant of matrix F:\", determinant_F)"
   ]
  },
  {
   "cell_type": "code",
   "execution_count": 59,
   "id": "50db9b1f-cdd7-487c-84b0-4f5dba848aef",
   "metadata": {},
   "outputs": [
    {
     "name": "stdout",
     "output_type": "stream",
     "text": [
      "Matrix G:\n",
      " [[4 7]\n",
      " [2 6]]\n",
      "Inverse of matrix G:\n",
      " [[ 0.6 -0.7]\n",
      " [-0.2  0.4]]\n"
     ]
    }
   ],
   "source": [
    "# 85.Create a square matrix `G` and find its inverse.\n",
    "\n",
    "import numpy as np\n",
    "G = np.array([[4, 7], [2, 6]])\n",
    "inverse_G = np.linalg.inv(G)\n",
    "print(\"Matrix G:\\n\", G)\n",
    "print(\"Inverse of matrix G:\\n\", inverse_G)"
   ]
  },
  {
   "cell_type": "code",
   "execution_count": null,
   "id": "696734eb-ab52-4ed4-8130-a214515d3eff",
   "metadata": {},
   "outputs": [],
   "source": []
  }
 ],
 "metadata": {
  "kernelspec": {
   "display_name": "Python 3 (ipykernel)",
   "language": "python",
   "name": "python3"
  },
  "language_info": {
   "codemirror_mode": {
    "name": "ipython",
    "version": 3
   },
   "file_extension": ".py",
   "mimetype": "text/x-python",
   "name": "python",
   "nbconvert_exporter": "python",
   "pygments_lexer": "ipython3",
   "version": "3.10.8"
  }
 },
 "nbformat": 4,
 "nbformat_minor": 5
}
