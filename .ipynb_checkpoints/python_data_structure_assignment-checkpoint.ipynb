{
 "cells": [
  {
   "cell_type": "code",
   "execution_count": 1,
   "id": "0569e735-9bed-41ce-8a09-e8d41b486943",
   "metadata": {},
   "outputs": [],
   "source": [
    "#Assignments: Data Structures in Python"
   ]
  },
  {
   "cell_type": "code",
   "execution_count": 6,
   "id": "a639dcf7-50f5-4c19-bafb-5e338840537b",
   "metadata": {},
   "outputs": [
    {
     "name": "stdout",
     "output_type": "stream",
     "text": [
      "reverse string is:naffa si eman ym\n"
     ]
    }
   ],
   "source": [
    "#1.Write a code to reverse a string.\n",
    "\n",
    "string1 = 'my name is affan'\n",
    "print(f\"reverse string is:{string1[::-1]}\")"
   ]
  },
  {
   "cell_type": "code",
   "execution_count": 7,
   "id": "e904c2ab-c686-4cba-b26e-ff734b12ac92",
   "metadata": {},
   "outputs": [
    {
     "name": "stdout",
     "output_type": "stream",
     "text": [
      "The number of vowels in the string is: 5\n"
     ]
    }
   ],
   "source": [
    "#2.Write a code to count the number of vowels in a string.\n",
    "\n",
    "string1 = \"my name is affan\"\n",
    "vowels = 'aeiouAEIOU'\n",
    "count = 0\n",
    "for char in string1:\n",
    "    if char in vowels:\n",
    "        count += 1\n",
    "print(f\"The number of vowels in the string is: {count}\")\n"
   ]
  },
  {
   "cell_type": "code",
   "execution_count": 8,
   "id": "da9aa07c-6340-46c9-ab15-833484f691ac",
   "metadata": {},
   "outputs": [
    {
     "name": "stdout",
     "output_type": "stream",
     "text": [
      "\"madam\" is a palindrome.\n"
     ]
    }
   ],
   "source": [
    "#3.Write a code to check if a given string is a palindrome or not.\n",
    "\n",
    "string = 'madam'\n",
    "string = string.lower()\n",
    "reversed_string = string[::-1]\n",
    "if reversed_string == string:\n",
    "    print(f'\"{string}\" is a palindrome.')\n",
    "else:\n",
    "    print(f'\"{string}\" is not a palindrome.')    "
   ]
  },
  {
   "cell_type": "code",
   "execution_count": 9,
   "id": "ea2e8d66-3be0-4d40-8182-8e0389267283",
   "metadata": {},
   "outputs": [
    {
     "name": "stdout",
     "output_type": "stream",
     "text": [
      "\"debitcard\" and \"badcredit\" are anagrams.\n"
     ]
    }
   ],
   "source": [
    "#4.Write a code to check if two given strings are anagrams of each other.\n",
    "\n",
    "string1 = \"debit card\"\n",
    "string2 = \"bad credit\"\n",
    "string1 = string1.replace(\" \", \"\").lower()\n",
    "string2 = string2.replace(\" \", \"\").lower()\n",
    "if len(string1) == len(string2):\n",
    "    if sorted(string1) == sorted(string2):\n",
    "        print(f'\"{string1}\" and \"{string2}\" are anagrams.')\n",
    "    else:\n",
    "        print(f'\"{string1}\" and \"{string2}\" are not anagrams.')\n",
    "else:\n",
    "    print(f'\"{string1}\" and \"{string2}\" are not anagrams.')"
   ]
  },
  {
   "cell_type": "code",
   "execution_count": 10,
   "id": "3eac921e-1877-402d-844b-d6c084c54d2d",
   "metadata": {},
   "outputs": [
    {
     "name": "stdout",
     "output_type": "stream",
     "text": [
      "The substring 'ram' occurs 2 times in the main string.\n"
     ]
    }
   ],
   "source": [
    "#5.Write a code to find all occurrences of a given substring within another string.\n",
    "\n",
    "main_string = \"ram and shyam playing in ram home\"\n",
    "substring = \"ram\"\n",
    "count = 0\n",
    "start = 0\n",
    "while start < len(main_string):\n",
    "    pos = main_string.find(substring, start)\n",
    "    if pos != -1:\n",
    "        count += 1\n",
    "        start = pos + 1\n",
    "    else:\n",
    "        break\n",
    "print(f\"The substring '{substring}' occurs {count} times in the main string.\")"
   ]
  },
  {
   "cell_type": "code",
   "execution_count": 13,
   "id": "1caee056-de80-4f3a-9f9b-40a841f26933",
   "metadata": {},
   "outputs": [
    {
     "name": "stdout",
     "output_type": "stream",
     "text": [
      "compressed string is:a2b1c5a3\n"
     ]
    }
   ],
   "source": [
    "#6. Write a code to perform basic string compression using the counts of repeated characters\n",
    "\n",
    "s = \"aabcccccaaa\"\n",
    "compressed = []\n",
    "count = 1\n",
    "for i in range(1, len(s)):\n",
    "    if s[i] == s[i - 1]:\n",
    "        count += 1\n",
    "    else:\n",
    "        compressed.append(s[i - 1] + str(count))\n",
    "        count = 1\n",
    "compressed.append(s[-1] + str(count))\n",
    "compressed_string = ''.join(compressed)\n",
    "print(f\"compressed string is:{compressed_string}\")"
   ]
  },
  {
   "cell_type": "code",
   "execution_count": 16,
   "id": "ed8680f3-ad58-4d27-a950-abb5d6ec70fb",
   "metadata": {},
   "outputs": [
    {
     "name": "stdout",
     "output_type": "stream",
     "text": [
      "The string does not have all unique characters.\n"
     ]
    }
   ],
   "source": [
    "#7.Write a code to determine if a string has all unique characters.\n",
    "\n",
    "s = \"pwskills\"\n",
    "unique_chars = set()\n",
    "for char in s:\n",
    "    if char in unique_chars:\n",
    "        print(\"The string does not have all unique characters.\")\n",
    "        break\n",
    "    unique_chars.add(char)\n",
    "else:\n",
    "    print(\"The string has all unique characters.\")\n",
    " "
   ]
  },
  {
   "cell_type": "code",
   "execution_count": 1,
   "id": "0d4a1d2d-44d1-474a-9b00-0072f0adfa80",
   "metadata": {},
   "outputs": [
    {
     "name": "stdin",
     "output_type": "stream",
     "text": [
      "please enter text hello\n"
     ]
    },
    {
     "name": "stdout",
     "output_type": "stream",
     "text": [
      "uppercase:HELLO\n"
     ]
    }
   ],
   "source": [
    "#8.Write a code to convert a given string to uppercase or lowercase.\n",
    "\n",
    "text=input('please enter text')\n",
    "if text==text.lower():\n",
    "    print(f\"uppercase:{text.upper()}\")\n",
    "elif text==text.upper():\n",
    "    print(f\"lowercase:{text.lower()}\")\n",
    "else:\n",
    "    print(\"invalid text\")\n",
    " "
   ]
  },
  {
   "cell_type": "code",
   "execution_count": 2,
   "id": "4740d468-0642-4ccf-bbfa-7f55871a8533",
   "metadata": {},
   "outputs": [
    {
     "name": "stdout",
     "output_type": "stream",
     "text": [
      "The number of words in the string is: 4\n"
     ]
    }
   ],
   "source": [
    "#9. Write a code to count the number of words in a string.\n",
    "\n",
    "string = \"this is python assignment\"\n",
    "word_count = 0\n",
    "in_word = False\n",
    "for char in string:\n",
    "    if char == ' ':\n",
    "        if in_word:\n",
    "            word_count += 1\n",
    "            in_word = False\n",
    "    else:\n",
    "        in_word = True\n",
    "if in_word:\n",
    "    word_count += 1\n",
    "\n",
    "print(f\"The number of words in the string is: {word_count}\")"
   ]
  },
  {
   "cell_type": "code",
   "execution_count": 3,
   "id": "176246b1-ef20-4a80-88a0-1f74f8873626",
   "metadata": {},
   "outputs": [
    {
     "name": "stdout",
     "output_type": "stream",
     "text": [
      "hello world\n"
     ]
    }
   ],
   "source": [
    "#10. Write a code to concatenate two strings without using the + operator\n",
    "\n",
    "string_1 = \"hello\"\n",
    "string_2 = \"world\"\n",
    "print(f\"{string_1} {string_2}\") "
   ]
  },
  {
   "cell_type": "code",
   "execution_count": 1,
   "id": "6188c121-ad8d-4f42-8584-a2e2092c6b19",
   "metadata": {},
   "outputs": [
    {
     "name": "stdout",
     "output_type": "stream",
     "text": [
      "Updated list: [3, 4, 6, 5]\n"
     ]
    }
   ],
   "source": [
    "#11.Write a code to remove all occurrences of a specific element from a list.\n",
    "\n",
    "given_list = [1, 3, 4, 6, 5, 1]\n",
    "specific_element = 1\n",
    "i = 0\n",
    "while i < len(given_list):\n",
    "    if given_list[i] == specific_element:\n",
    "        given_list.pop(i)\n",
    "    else:\n",
    "        i += 1\n",
    "\n",
    "print(\"Updated list:\", given_list) "
   ]
  },
  {
   "cell_type": "code",
   "execution_count": 1,
   "id": "036a39dc-44eb-4a11-87ec-f96516c6259f",
   "metadata": {},
   "outputs": [
    {
     "name": "stdout",
     "output_type": "stream",
     "text": [
      "The second largest number is: 25\n"
     ]
    }
   ],
   "source": [
    "#12.Implement a code to find the second largest number in a given list of integers.\n",
    "\n",
    "numbers = [15, 20, 25, 30, 10, 13, 20]\n",
    "unique_numbers = list(set(numbers))\n",
    "unique_numbers.sort(reverse=True)\n",
    "if len(unique_numbers) >= 2:\n",
    "    second_largest = unique_numbers[1]\n",
    "else:\n",
    "    second_largest = None \n",
    "print(f\"The second largest number is: {second_largest}\")"
   ]
  },
  {
   "cell_type": "code",
   "execution_count": 12,
   "id": "e000392c-9117-4629-8191-df1662b162b1",
   "metadata": {},
   "outputs": [
    {
     "name": "stdout",
     "output_type": "stream",
     "text": [
      "count of all occurrences is: {1: 2, 8: 3, 5: 2, 3: 1, 4: 2}\n"
     ]
    }
   ],
   "source": [
    "#13. Create a code to count the occurrences of each element in a list and return a \n",
    "#dictionary with elements as keys and their counts as values.\n",
    "\n",
    "my_list = [1, 1, 8, 8, 8, 5, 5, 3, 4, 4]\n",
    "occurrences = {}\n",
    "for item in my_list:\n",
    "    if item in occurrences:\n",
    "        occurrences[item] += 1\n",
    "    else:\n",
    "        occurrences[item] = 1\n",
    "print(f\"count of all occurrences is: {occurrences}\")"
   ]
  },
  {
   "cell_type": "code",
   "execution_count": 17,
   "id": "b8320fc6-46cd-4b55-8585-12358b14d440",
   "metadata": {},
   "outputs": [
    {
     "name": "stdout",
     "output_type": "stream",
     "text": [
      "reverse list is: [1, 2, 3, 4, 5]\n"
     ]
    }
   ],
   "source": [
    "#14.Write a code to reverse a list in-place without using any built-in reverse functions.\n",
    "\n",
    "my_list = [5, 4, 3, 2, 1]\n",
    "left = 0\n",
    "right = len(my_list) - 1\n",
    "while left < right:\n",
    "    my_list[left], my_list[right] = my_list[right], my_list[left]\n",
    "    left += 1\n",
    "    right -= 1\n",
    "print(f\"reverse list is: {my_list}\")"
   ]
  },
  {
   "cell_type": "code",
   "execution_count": 16,
   "id": "bf0e410b-05f3-42c4-b34f-24eb83a4b086",
   "metadata": {},
   "outputs": [
    {
     "name": "stdout",
     "output_type": "stream",
     "text": [
      "unique list is: [1, 2, 3, 4]\n"
     ]
    }
   ],
   "source": [
    "#15.Implement a code to find and remove duplicates from a list while preserving the original order of elements.\n",
    "\n",
    "my_list = [1, 2, 2, 3, 3, 4, 4, 4]\n",
    "unique_list = []\n",
    "seen = set()\n",
    "for item in my_list:\n",
    "    if item not in seen:\n",
    "        unique_list.append(item)\n",
    "        seen.add(item)\n",
    "print(F\"unique list is: {unique_list}\")"
   ]
  },
  {
   "cell_type": "code",
   "execution_count": 6,
   "id": "2754d694-5cd2-41b8-8da3-6eae62b86ab3",
   "metadata": {},
   "outputs": [
    {
     "name": "stdout",
     "output_type": "stream",
     "text": [
      "The list is sorted in descending order.\n"
     ]
    }
   ],
   "source": [
    "#16. Create a code to check if a given list is sorted (either in ascending or descending order) or not.\n",
    "\n",
    "my_list = [5, 4, 3, 2, 1]\n",
    "is_ascending = True\n",
    "is_descending = True\n",
    "for i in range(len(my_list) - 1):\n",
    "    if my_list[i] > my_list[i + 1]:\n",
    "        is_ascending = False\n",
    "    if my_list[i] < my_list[i + 1]:\n",
    "        is_descending = False\n",
    "if is_ascending:\n",
    "    print(\"The list is sorted in ascending order.\")\n",
    "elif is_descending:\n",
    "    print(\"The list is sorted in descending order.\")\n",
    "else:\n",
    "    print(\"The list is not sorted.\")"
   ]
  },
  {
   "cell_type": "code",
   "execution_count": 9,
   "id": "70e60cb1-a621-402a-8535-64b0c7d46153",
   "metadata": {},
   "outputs": [
    {
     "name": "stdout",
     "output_type": "stream",
     "text": [
      "merged list is: [1, 2, 3, 4, 5, 6]\n"
     ]
    }
   ],
   "source": [
    "#17.Write a code to merge two sorted lists into a single sorted list.\n",
    "\n",
    "list1 = [1, 2, 3]\n",
    "list2 = [4, 5, 6]\n",
    "merged_list = []\n",
    "i, j = 0, 0\n",
    "while i < len(list1) and j < len(list2):\n",
    "    if list1[i] < list2[j]:\n",
    "        merged_list.append(list1[i])\n",
    "        i += 1\n",
    "    else:\n",
    "        merged_list.append(list2[j])\n",
    "        j += 1\n",
    "while i < len(list1):\n",
    "    merged_list.append(list1[i])\n",
    "    i += 1\n",
    "while j < len(list2):\n",
    "    merged_list.append(list2[j])\n",
    "    j += 1\n",
    "print(f\"merged list is: {merged_list}\")"
   ]
  },
  {
   "cell_type": "code",
   "execution_count": 11,
   "id": "f0299e7c-40c9-421a-bd4f-3a2b6bda8d63",
   "metadata": {},
   "outputs": [
    {
     "name": "stdout",
     "output_type": "stream",
     "text": [
      "intersection of given two list is: [3]\n"
     ]
    }
   ],
   "source": [
    "#18. Implement a code to find the intersection of two given lists.\n",
    "\n",
    "list1 = [1, 2, 3]\n",
    "list2 = [3, 4, 5]\n",
    "intersection = []\n",
    "for item in list1:\n",
    "    if item in list2 and item not in intersection:\n",
    "        intersection.append(item)\n",
    "print(f\"intersection of given two list is: {intersection}\")"
   ]
  },
  {
   "cell_type": "code",
   "execution_count": 18,
   "id": "269ffef2-2ed8-4af6-a4f6-5a52fcf06322",
   "metadata": {},
   "outputs": [
    {
     "name": "stdout",
     "output_type": "stream",
     "text": [
      "union of list is: [1, 2, 3, 4, 5]\n"
     ]
    }
   ],
   "source": [
    "#19.Create a code to find the union of two lists without duplicates.\n",
    "\n",
    "list1 = [1, 2, 3]\n",
    "list2 = [3, 4, 5]\n",
    "union_list = []\n",
    "for item in list1:\n",
    "    if item not in union_list:\n",
    "        union_list.append(item)\n",
    "for item in list2:\n",
    "    if item not in union_list:\n",
    "        union_list.append(item)\n",
    "print(f\"union of list is: {union_list}\")"
   ]
  },
  {
   "cell_type": "code",
   "execution_count": 19,
   "id": "473e9ff2-3186-42eb-ac77-835c2eaaddf1",
   "metadata": {},
   "outputs": [],
   "source": [
    "#20.Write a code to shuffle a given list randomly without using any built-in shuffle functions\n"
   ]
  },
  {
   "cell_type": "code",
   "execution_count": 27,
   "id": "5303ffc3-c5f0-4056-80e5-69d03183e38a",
   "metadata": {},
   "outputs": [
    {
     "name": "stdin",
     "output_type": "stream",
     "text": [
      "enter the first tuple 1234\n",
      "enter the second tuple 3456\n"
     ]
    },
    {
     "name": "stdout",
     "output_type": "stream",
     "text": [
      "common tuple is: ('3', '4')\n"
     ]
    }
   ],
   "source": [
    "#21.Write a code that takes two tuples as input and returns a new tuple containing elements that are common to both input tuples.\n",
    "\n",
    "tuple1 = input('enter the first tuple')\n",
    "tuple2 = input('enter the second tuple')\n",
    "common_elements = []\n",
    "for element in tuple1:\n",
    "    if element in tuple2:\n",
    "        common_elements.append(element)\n",
    "common_tuple = tuple(common_elements)\n",
    "print(f\"common tuple is: {common_tuple}\") "
   ]
  },
  {
   "cell_type": "code",
   "execution_count": 25,
   "id": "267750d0-42ca-47b5-afa6-146fed569b41",
   "metadata": {},
   "outputs": [
    {
     "name": "stdin",
     "output_type": "stream",
     "text": [
      "Enter the first set of integers, separated by commas:  1, 2, 3, 4\n",
      "Enter the second set of integers, separated by commas:  3, 4, 5, 6\n"
     ]
    },
    {
     "name": "stdout",
     "output_type": "stream",
     "text": [
      "The intersection of the two sets is: (3, 4)\n"
     ]
    }
   ],
   "source": [
    "#22. Create a code that prompts the user to enter two sets of integers separated by commas. \n",
    "#Then, print the intersection of these two sets.\n",
    "\n",
    "input1 = input(\"Enter the first set of integers, separated by commas: \")\n",
    "input2 = input(\"Enter the second set of integers, separated by commas: \")\n",
    "set1 = [int(x) for x in input1.split(',')]\n",
    "set2 = [int(x) for x in input2.split(',')]\n",
    "intersection = []\n",
    "for element in set1:\n",
    "    if element in set2 and element not in intersection:\n",
    "        intersection.append(element)\n",
    "intersection_tuple = tuple(intersection)\n",
    "print(f\"The intersection of the two sets is: {intersection_tuple}\")"
   ]
  },
  {
   "cell_type": "code",
   "execution_count": 30,
   "id": "16784457-c236-42d6-a44d-9e87ce387e58",
   "metadata": {},
   "outputs": [
    {
     "name": "stdout",
     "output_type": "stream",
     "text": [
      "concatenate tuple is :(1, 2, 3, 4, 5, 6)\n"
     ]
    }
   ],
   "source": [
    "#23. Write a code to concatenate two tuples. The function should take two tuples as input \n",
    "#and return a new tuple containing elements from both input tuples.\n",
    "\n",
    "def concatenate_tuples(tuple1, tuple2):\n",
    "    new_tuple = tuple1 + tuple2\n",
    "    return new_tuple\n",
    "tuple1 = (1, 2, 3)\n",
    "tuple2 = (4, 5, 6)\n",
    "new_tuple = concatenate_tuples(tuple1, tuple2)\n",
    "print(F\"concatenate tuple is :{new_tuple}\")"
   ]
  },
  {
   "cell_type": "code",
   "execution_count": 32,
   "id": "6715586b-14c2-4cfd-8831-d3b7eefe3e37",
   "metadata": {},
   "outputs": [
    {
     "name": "stdin",
     "output_type": "stream",
     "text": [
      "Enter the first set of strings (separated by spaces):  1 2 3 4\n",
      "Enter the second set of strings (separated by spaces):  3 4 5 6\n"
     ]
    },
    {
     "name": "stdout",
     "output_type": "stream",
     "text": [
      "Elements present in the first set but not in the second set: {'2', '1'}\n"
     ]
    }
   ],
   "source": [
    "#24.develop a code that prompts the user to input two sets of strings. Then, print the elements \n",
    "#that are present in the first set but not in the second set.\n",
    "set1 = set(input(\"Enter the first set of strings (separated by spaces): \").split())\n",
    "set2 = set(input(\"Enter the second set of strings (separated by spaces): \").split())\n",
    "difference = set1 - set2\n",
    "print(f\"Elements present in the first set but not in the second set: {difference}\")\n"
   ]
  },
  {
   "cell_type": "code",
   "execution_count": 37,
   "id": "277d113b-1d9e-4af9-b924-17a68c053205",
   "metadata": {},
   "outputs": [
    {
     "name": "stdout",
     "output_type": "stream",
     "text": [
      "new tuple is :(20, 30, 40)\n"
     ]
    }
   ],
   "source": [
    "#25.Create a code that takes a tuple and two integers as input. The function should return a new tuple \n",
    "#containing elements from the original tuple within the specified range of indices.\n",
    "\n",
    "def slice_tuple(original_tuple, start_index, end_index):\n",
    "    result = original_tuple[start_index:end_index]\n",
    "    return result\n",
    "original_tuple = (10, 20, 30, 40, 50, 60)\n",
    "start_index = 1\n",
    "end_index = 4\n",
    "result = slice_tuple(original_tuple, start_index, end_index)\n",
    "print(f\"new tuple is :{result}\")\n"
   ]
  },
  {
   "cell_type": "code",
   "execution_count": 38,
   "id": "4bb2bc47-bf35-46bf-99ef-66b61ba8123d",
   "metadata": {},
   "outputs": [
    {
     "name": "stdin",
     "output_type": "stream",
     "text": [
      "Enter the first set of characters:  asdfg\n",
      "Enter the second set of characters:  dfger\n"
     ]
    },
    {
     "name": "stdout",
     "output_type": "stream",
     "text": [
      "Union of the two sets: {'f', 'd', 'a', 'e', 's', 'g', 'r'}\n"
     ]
    }
   ],
   "source": [
    "#26.Write a code that prompts the user to input two sets of characters. Then, print the union of these two sets\n",
    "\n",
    "set1_input = input(\"Enter the first set of characters: \")\n",
    "set1 = set(set1_input)\n",
    "set2_input = input(\"Enter the second set of characters: \")\n",
    "set2 = set(set2_input)\n",
    "union_set = set1 | set2\n",
    "print(\"Union of the two sets:\", union_set) "
   ]
  },
  {
   "cell_type": "code",
   "execution_count": 39,
   "id": "41bf0409-7e01-4daa-9176-51f193752460",
   "metadata": {},
   "outputs": [
    {
     "name": "stdout",
     "output_type": "stream",
     "text": [
      "Maximum value: 9, Minimum value: 1\n"
     ]
    }
   ],
   "source": [
    "#27. Develop a code that takes a tuple of integers as input. The function should return the maximum and \n",
    "#minimum values from the tuple using tuple unpacking.\n",
    "\n",
    "def find_max_min(values):\n",
    "    *rest, = values\n",
    "    max_value = max(rest)\n",
    "    min_value = min(rest)\n",
    "    return max_value, min_value\n",
    "input_tuple = (4, 1, 5, 9, 2, 6,)\n",
    "max_val, min_val = find_max_min(input_tuple)\n",
    "print(f\"Maximum value: {max_val}, Minimum value: {min_val}\")"
   ]
  },
  {
   "cell_type": "code",
   "execution_count": 40,
   "id": "75a4f300-fb18-44b3-b525-2c0b8e88f03b",
   "metadata": {},
   "outputs": [
    {
     "name": "stdout",
     "output_type": "stream",
     "text": [
      "Union of the two sets: {1, 2, 3, 4}\n",
      "Intersection of the two sets: {2, 3}\n",
      "Difference of the two sets: {1}\n"
     ]
    }
   ],
   "source": [
    "#28.Create a code that defines two sets of integers. Then, print the union, intersection, \n",
    "#and difference of these two sets.\n",
    "\n",
    "set1 = {1, 2, 3}\n",
    "set2 = {2, 3, 4}\n",
    "union_set = set1 | set2\n",
    "intersection_set = set1 & set2\n",
    "difference_set = set1 - set2\n",
    "print(\"Union of the two sets:\", union_set)\n",
    "print(\"Intersection of the two sets:\", intersection_set)\n",
    "print(\"Difference of the two sets:\", difference_set)"
   ]
  },
  {
   "cell_type": "code",
   "execution_count": 42,
   "id": "f4b7ab1a-70cd-4686-925b-88bf1f6336d3",
   "metadata": {},
   "outputs": [
    {
     "name": "stdout",
     "output_type": "stream",
     "text": [
      "The element 3 occurs 3 times in the tuple.\n"
     ]
    }
   ],
   "source": [
    "#29.Write a code that takes a tuple and an element as input. The function should return the count of \n",
    "#occurrences of the given element in the tuple\n",
    "\n",
    "def count_occurrences(tup, element):\n",
    "    return tup.count(element)\n",
    "input_tuple = (1, 2, 3, 2, 3, 2, 3,4 , 5)\n",
    "element_to_count = 3\n",
    "count = count_occurrences(input_tuple, element_to_count)\n",
    "print(f\"The element {element_to_count} occurs {count} times in the tuple.\")"
   ]
  },
  {
   "cell_type": "code",
   "execution_count": 45,
   "id": "c350db8a-3a9d-418c-898b-c3046e695f08",
   "metadata": {},
   "outputs": [
    {
     "name": "stdin",
     "output_type": "stream",
     "text": [
      "Enter the first set of strings (separated by spaces):  car bike truck\n",
      "Enter the second set of strings (separated by spaces):  car bike truck fish\n"
     ]
    },
    {
     "name": "stdout",
     "output_type": "stream",
     "text": [
      "Symmetric difference of the two sets: {'fish'}\n"
     ]
    }
   ],
   "source": [
    "#30.Develop a code that prompts the user to input two sets of strings. Then, print the symmetric \n",
    "#difference of these two sets.\n",
    "\n",
    "set1_input = input(\"Enter the first set of strings (separated by spaces):\")\n",
    "set1 = set(set1_input.split())\n",
    "set2_input = input(\"Enter the second set of strings (separated by spaces): \")\n",
    "set2 = set(set2_input.split())\n",
    "symmetric_difference_set = set1 ^ set2\n",
    "print(\"Symmetric difference of the two sets:\", symmetric_difference_set)"
   ]
  },
  {
   "cell_type": "code",
   "execution_count": 46,
   "id": "14d1e00f-c8db-44f3-92e2-e5106722325b",
   "metadata": {},
   "outputs": [
    {
     "name": "stdin",
     "output_type": "stream",
     "text": [
      "Enter a list of words (separated by spaces):  my name is affan\n"
     ]
    },
    {
     "name": "stdout",
     "output_type": "stream",
     "text": [
      "Word frequencies: {'my': 1, 'name': 1, 'is': 1, 'affan': 1}\n"
     ]
    }
   ],
   "source": [
    "#31.Write a code that takes a list of words as input and returns a dictionary where the keys are unique words \n",
    "#and the values are the frequencies of those words in the input list.\n",
    "\n",
    "words_input = input(\"Enter a list of words (separated by spaces): \")\n",
    "word_list = words_input.split()\n",
    "word_freq = {}\n",
    "for word in word_list:\n",
    "    if word in word_freq:\n",
    "        word_freq[word] += 1\n",
    "    else:\n",
    "        word_freq[word] = 1\n",
    "print(\"Word frequencies:\", word_freq)"
   ]
  },
  {
   "cell_type": "code",
   "execution_count": 49,
   "id": "7fa61412-d64a-4ab7-b0e2-ad376250831c",
   "metadata": {},
   "outputs": [
    {
     "name": "stdin",
     "output_type": "stream",
     "text": [
      "Enter the first dictionary (key:value pairs separated by commas):  car:2,bike:4,truck:1\n",
      "Enter the second dictionary (key:value pairs separated by commas):  bike:2,truck:1,ship:3\n"
     ]
    },
    {
     "name": "stdout",
     "output_type": "stream",
     "text": [
      "Merged dictionary: {'car': 2, 'bike': 6, 'truck': 2, 'ship': 3}\n"
     ]
    }
   ],
   "source": [
    "#32.Write a code that takes two dictionaries as input and merges them into a single dictionary. If there are \n",
    "#common keys, the values should be added together\n",
    "\n",
    "dict1_input = input(\"Enter the first dictionary (key:value pairs separated by commas): \")\n",
    "dict1 = dict(item.split(\":\") for item in dict1_input.split(\",\"))\n",
    "dict1 = {k: int(v) for k, v in dict1.items()}\n",
    "dict2_input = input(\"Enter the second dictionary (key:value pairs separated by commas): \")\n",
    "dict2 = dict(item.split(\":\") for item in dict2_input.split(\",\"))\n",
    "dict2 = {k: int(v) for k, v in dict2.items()}  \n",
    "merged_dict = dict1.copy()  \n",
    "for key, value in dict2.items():\n",
    "    if key in merged_dict:\n",
    "        merged_dict[key] += value \n",
    "    else:\n",
    "        merged_dict[key] = value  \n",
    "print(\"Merged dictionary:\", merged_dict)"
   ]
  },
  {
   "cell_type": "code",
   "execution_count": 54,
   "id": "1336f75c-6d05-436c-8606-bfb768f53d19",
   "metadata": {},
   "outputs": [
    {
     "name": "stdout",
     "output_type": "stream",
     "text": [
      "30\n",
      "None\n"
     ]
    }
   ],
   "source": [
    "#33. Write a code to access a value in a nested dictionary. The function should take the dictionary and a list of \n",
    "#keys as input, and return the corresponding value. If any of the keys do not exist in the dictionary, the \n",
    "#function should return None\n",
    "\n",
    "def get_nested_value(nested_dict, keys):\n",
    "    current_dict = nested_dict\n",
    "    for key in keys:\n",
    "        if key in current_dict:\n",
    "            current_dict = current_dict[key]\n",
    "        else:\n",
    "            return None\n",
    "    return current_dict\n",
    "nested_dict = {\n",
    "    'a': {\n",
    "        'b': {\n",
    "            'c': 30\n",
    "        }\n",
    "    }\n",
    "}\n",
    "keys = ['a', 'b', 'c']\n",
    "value = get_nested_value(nested_dict, keys)\n",
    "print(value)\n",
    "keys = ['a', 'b', 'd']\n",
    "value = get_nested_value(nested_dict, keys)\n",
    "print(value) "
   ]
  },
  {
   "cell_type": "code",
   "execution_count": 53,
   "id": "29512742-391d-4715-a3b7-bca4fa53cc9c",
   "metadata": {},
   "outputs": [
    {
     "name": "stdout",
     "output_type": "stream",
     "text": [
      "sorted dictionary :{'plane': 2, 'car': 3, 'bike': 4, 'truck': 6}\n"
     ]
    }
   ],
   "source": [
    "#34. Write a code that takes a dictionary as input and returns a sorted version of it based on the values. You \n",
    "#can choose whether to sort in ascending or descending order.\n",
    "\n",
    "input_dict = {'car': 3, 'bike': 4, 'truck': 6, 'plane': 2}\n",
    "items = list(input_dict.items())\n",
    "for i in range(len(items)):\n",
    "    for j in range(0, len(items) - i - 1):\n",
    "        if items[j][1] > items[j + 1][1]:\n",
    "            items[j], items[j + 1] = items[j + 1], items[j]\n",
    "sorted_dict = {key: value for key, value in items}\n",
    "print(f\"sorted dictionary :{sorted_dict}\") "
   ]
  },
  {
   "cell_type": "code",
   "execution_count": 57,
   "id": "fcf41c1b-06c7-4792-bc87-10a57bec6ace",
   "metadata": {},
   "outputs": [
    {
     "name": "stdout",
     "output_type": "stream",
     "text": [
      "inverted dictionary :{3: ['car'], 4: ['bike'], 2: ['truck'], 5: ['plane']}\n"
     ]
    }
   ],
   "source": [
    "#35.Write a code that inverts a dictionary, swapping keys and values. Ensure that the inverted dictionary \n",
    "#correctly handles cases where multiple keys have the same value by storing the keys as a list in the \n",
    "#inverted dictionary.\n",
    "\n",
    "input_dict = {'car': 3, 'bike': 4, 'truck': 2, 'plane': 5}\n",
    "inverted_dict = {}\n",
    "for key, value in input_dict.items():\n",
    "    if value not in inverted_dict:\n",
    "        inverted_dict[value] = [key]\n",
    "    else:\n",
    "        inverted_dict[value].append(key)\n",
    "print(f\"inverted dictionary :{inverted_dict}\")"
   ]
  },
  {
   "cell_type": "code",
   "execution_count": null,
   "id": "9839e362-b1a8-4c52-a67c-51323c65a622",
   "metadata": {},
   "outputs": [],
   "source": []
  }
 ],
 "metadata": {
  "kernelspec": {
   "display_name": "Python 3 (ipykernel)",
   "language": "python",
   "name": "python3"
  },
  "language_info": {
   "codemirror_mode": {
    "name": "ipython",
    "version": 3
   },
   "file_extension": ".py",
   "mimetype": "text/x-python",
   "name": "python",
   "nbconvert_exporter": "python",
   "pygments_lexer": "ipython3",
   "version": "3.10.8"
  }
 },
 "nbformat": 4,
 "nbformat_minor": 5
}
